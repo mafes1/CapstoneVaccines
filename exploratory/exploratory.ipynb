{
 "cells": [
  {
   "cell_type": "markdown",
   "id": "0cc33073-cf58-4414-8f99-b9e42787a79f",
   "metadata": {},
   "source": [
    "# Análisis exploratorio\n",
    "\n",
    "En esta primera parte del análisis exploratorio se estudian las diferentes columnas que integran el dataset obtenido. En los otros dos notebooks del análisis exploratorio se considera el contenido de los tweets."
   ]
  },
  {
   "cell_type": "code",
   "execution_count": 141,
   "id": "2c00e77d-b356-4857-87f5-5718d7a73036",
   "metadata": {},
   "outputs": [],
   "source": [
    "import pandas as pd, numpy as np, matplotlib.pyplot as plt, seaborn as sns"
   ]
  },
  {
   "cell_type": "code",
   "execution_count": 142,
   "id": "bffce94e-ec5a-42aa-a2ad-ee8c9cadbd6c",
   "metadata": {},
   "outputs": [
    {
     "data": {
      "text/html": [
       "<div>\n",
       "<style scoped>\n",
       "    .dataframe tbody tr th:only-of-type {\n",
       "        vertical-align: middle;\n",
       "    }\n",
       "\n",
       "    .dataframe tbody tr th {\n",
       "        vertical-align: top;\n",
       "    }\n",
       "\n",
       "    .dataframe thead th {\n",
       "        text-align: right;\n",
       "    }\n",
       "</style>\n",
       "<table border=\"1\" class=\"dataframe\">\n",
       "  <thead>\n",
       "    <tr style=\"text-align: right;\">\n",
       "      <th></th>\n",
       "      <th>url</th>\n",
       "      <th>date</th>\n",
       "      <th>content</th>\n",
       "      <th>renderedContent</th>\n",
       "      <th>id</th>\n",
       "      <th>user</th>\n",
       "      <th>outlinks</th>\n",
       "      <th>tcooutlinks</th>\n",
       "      <th>replyCount</th>\n",
       "      <th>retweetCount</th>\n",
       "      <th>...</th>\n",
       "      <th>source</th>\n",
       "      <th>sourceUrl</th>\n",
       "      <th>sourceLabel</th>\n",
       "      <th>media</th>\n",
       "      <th>retweetedTweet</th>\n",
       "      <th>quotedTweet</th>\n",
       "      <th>mentionedUsers</th>\n",
       "      <th>coordinates</th>\n",
       "      <th>place</th>\n",
       "      <th>username</th>\n",
       "    </tr>\n",
       "  </thead>\n",
       "  <tbody>\n",
       "    <tr>\n",
       "      <th>0</th>\n",
       "      <td>https://twitter.com/LaBandaPindonga/status/138...</td>\n",
       "      <td>2021-04-30 23:58:58+00:00</td>\n",
       "      <td>Anoche dijo Bobeli \"no tenemo' vacuna' po'que ...</td>\n",
       "      <td>Anoche dijo Bobeli \"no tenemo' vacuna' po'que ...</td>\n",
       "      <td>1388281755816321026</td>\n",
       "      <td>{'username': 'LaBandaPindonga', 'displayname':...</td>\n",
       "      <td>[]</td>\n",
       "      <td>[]</td>\n",
       "      <td>31</td>\n",
       "      <td>400</td>\n",
       "      <td>...</td>\n",
       "      <td>&lt;a href=\"https://mobile.twitter.com\" rel=\"nofo...</td>\n",
       "      <td>https://mobile.twitter.com</td>\n",
       "      <td>Twitter Web App</td>\n",
       "      <td>NaN</td>\n",
       "      <td>NaN</td>\n",
       "      <td>NaN</td>\n",
       "      <td>NaN</td>\n",
       "      <td>NaN</td>\n",
       "      <td>NaN</td>\n",
       "      <td>LaBandaPindonga</td>\n",
       "    </tr>\n",
       "    <tr>\n",
       "      <th>1</th>\n",
       "      <td>https://twitter.com/HenryChinaski67/status/138...</td>\n",
       "      <td>2021-04-30 23:31:29+00:00</td>\n",
       "      <td>Avanzan las negociaciones para producir íntegr...</td>\n",
       "      <td>Avanzan las negociaciones para producir íntegr...</td>\n",
       "      <td>1388274839417495553</td>\n",
       "      <td>{'username': 'HenryChinaski67', 'displayname':...</td>\n",
       "      <td>[]</td>\n",
       "      <td>[]</td>\n",
       "      <td>19</td>\n",
       "      <td>157</td>\n",
       "      <td>...</td>\n",
       "      <td>&lt;a href=\"http://twitter.com/download/android\" ...</td>\n",
       "      <td>http://twitter.com/download/android</td>\n",
       "      <td>Twitter for Android</td>\n",
       "      <td>NaN</td>\n",
       "      <td>NaN</td>\n",
       "      <td>NaN</td>\n",
       "      <td>NaN</td>\n",
       "      <td>NaN</td>\n",
       "      <td>NaN</td>\n",
       "      <td>HenryChinaski67</td>\n",
       "    </tr>\n",
       "    <tr>\n",
       "      <th>2</th>\n",
       "      <td>https://twitter.com/ribaniez1/status/138827222...</td>\n",
       "      <td>2021-04-30 23:21:05+00:00</td>\n",
       "      <td>Castro al médico israelí:\\nFue efectivo el con...</td>\n",
       "      <td>Castro al médico israelí:\\nFue efectivo el con...</td>\n",
       "      <td>1388272223866265602</td>\n",
       "      <td>{'username': 'ribaniez1', 'displayname': 'Raúl...</td>\n",
       "      <td>[]</td>\n",
       "      <td>[]</td>\n",
       "      <td>25</td>\n",
       "      <td>248</td>\n",
       "      <td>...</td>\n",
       "      <td>&lt;a href=\"https://mobile.twitter.com\" rel=\"nofo...</td>\n",
       "      <td>https://mobile.twitter.com</td>\n",
       "      <td>Twitter Web App</td>\n",
       "      <td>NaN</td>\n",
       "      <td>NaN</td>\n",
       "      <td>NaN</td>\n",
       "      <td>NaN</td>\n",
       "      <td>NaN</td>\n",
       "      <td>NaN</td>\n",
       "      <td>ribaniez1</td>\n",
       "    </tr>\n",
       "    <tr>\n",
       "      <th>3</th>\n",
       "      <td>https://twitter.com/EcarleF/status/13882572630...</td>\n",
       "      <td>2021-04-30 22:21:38+00:00</td>\n",
       "      <td>El Laboratorio Richmond en Argentina va a fabr...</td>\n",
       "      <td>El Laboratorio Richmond en Argentina va a fabr...</td>\n",
       "      <td>1388257263085830144</td>\n",
       "      <td>{'username': 'EcarleF', 'displayname': 'Soy Ed...</td>\n",
       "      <td>[]</td>\n",
       "      <td>[]</td>\n",
       "      <td>22</td>\n",
       "      <td>293</td>\n",
       "      <td>...</td>\n",
       "      <td>&lt;a href=\"https://mobile.twitter.com\" rel=\"nofo...</td>\n",
       "      <td>https://mobile.twitter.com</td>\n",
       "      <td>Twitter Web App</td>\n",
       "      <td>[{'previewUrl': 'https://pbs.twimg.com/media/E...</td>\n",
       "      <td>NaN</td>\n",
       "      <td>NaN</td>\n",
       "      <td>NaN</td>\n",
       "      <td>NaN</td>\n",
       "      <td>NaN</td>\n",
       "      <td>EcarleF</td>\n",
       "    </tr>\n",
       "    <tr>\n",
       "      <th>4</th>\n",
       "      <td>https://twitter.com/DrCKambourian/status/13882...</td>\n",
       "      <td>2021-04-30 22:03:41+00:00</td>\n",
       "      <td>Presidente/ Ministra: Dado que ayer estuvieron...</td>\n",
       "      <td>Presidente/ Ministra: Dado que ayer estuvieron...</td>\n",
       "      <td>1388252744176259074</td>\n",
       "      <td>{'username': 'DrCKambourian', 'displayname': '...</td>\n",
       "      <td>[]</td>\n",
       "      <td>[]</td>\n",
       "      <td>228</td>\n",
       "      <td>2961</td>\n",
       "      <td>...</td>\n",
       "      <td>&lt;a href=\"http://twitter.com/download/iphone\" r...</td>\n",
       "      <td>http://twitter.com/download/iphone</td>\n",
       "      <td>Twitter for iPhone</td>\n",
       "      <td>NaN</td>\n",
       "      <td>NaN</td>\n",
       "      <td>NaN</td>\n",
       "      <td>NaN</td>\n",
       "      <td>NaN</td>\n",
       "      <td>NaN</td>\n",
       "      <td>DrCKambourian</td>\n",
       "    </tr>\n",
       "  </tbody>\n",
       "</table>\n",
       "<p>5 rows × 24 columns</p>\n",
       "</div>"
      ],
      "text/plain": [
       "                                                 url  \\\n",
       "0  https://twitter.com/LaBandaPindonga/status/138...   \n",
       "1  https://twitter.com/HenryChinaski67/status/138...   \n",
       "2  https://twitter.com/ribaniez1/status/138827222...   \n",
       "3  https://twitter.com/EcarleF/status/13882572630...   \n",
       "4  https://twitter.com/DrCKambourian/status/13882...   \n",
       "\n",
       "                       date  \\\n",
       "0 2021-04-30 23:58:58+00:00   \n",
       "1 2021-04-30 23:31:29+00:00   \n",
       "2 2021-04-30 23:21:05+00:00   \n",
       "3 2021-04-30 22:21:38+00:00   \n",
       "4 2021-04-30 22:03:41+00:00   \n",
       "\n",
       "                                             content  \\\n",
       "0  Anoche dijo Bobeli \"no tenemo' vacuna' po'que ...   \n",
       "1  Avanzan las negociaciones para producir íntegr...   \n",
       "2  Castro al médico israelí:\\nFue efectivo el con...   \n",
       "3  El Laboratorio Richmond en Argentina va a fabr...   \n",
       "4  Presidente/ Ministra: Dado que ayer estuvieron...   \n",
       "\n",
       "                                     renderedContent                   id  \\\n",
       "0  Anoche dijo Bobeli \"no tenemo' vacuna' po'que ...  1388281755816321026   \n",
       "1  Avanzan las negociaciones para producir íntegr...  1388274839417495553   \n",
       "2  Castro al médico israelí:\\nFue efectivo el con...  1388272223866265602   \n",
       "3  El Laboratorio Richmond en Argentina va a fabr...  1388257263085830144   \n",
       "4  Presidente/ Ministra: Dado que ayer estuvieron...  1388252744176259074   \n",
       "\n",
       "                                                user outlinks tcooutlinks  \\\n",
       "0  {'username': 'LaBandaPindonga', 'displayname':...       []          []   \n",
       "1  {'username': 'HenryChinaski67', 'displayname':...       []          []   \n",
       "2  {'username': 'ribaniez1', 'displayname': 'Raúl...       []          []   \n",
       "3  {'username': 'EcarleF', 'displayname': 'Soy Ed...       []          []   \n",
       "4  {'username': 'DrCKambourian', 'displayname': '...       []          []   \n",
       "\n",
       "   replyCount  retweetCount  ...  \\\n",
       "0          31           400  ...   \n",
       "1          19           157  ...   \n",
       "2          25           248  ...   \n",
       "3          22           293  ...   \n",
       "4         228          2961  ...   \n",
       "\n",
       "                                              source  \\\n",
       "0  <a href=\"https://mobile.twitter.com\" rel=\"nofo...   \n",
       "1  <a href=\"http://twitter.com/download/android\" ...   \n",
       "2  <a href=\"https://mobile.twitter.com\" rel=\"nofo...   \n",
       "3  <a href=\"https://mobile.twitter.com\" rel=\"nofo...   \n",
       "4  <a href=\"http://twitter.com/download/iphone\" r...   \n",
       "\n",
       "                             sourceUrl          sourceLabel  \\\n",
       "0           https://mobile.twitter.com      Twitter Web App   \n",
       "1  http://twitter.com/download/android  Twitter for Android   \n",
       "2           https://mobile.twitter.com      Twitter Web App   \n",
       "3           https://mobile.twitter.com      Twitter Web App   \n",
       "4   http://twitter.com/download/iphone   Twitter for iPhone   \n",
       "\n",
       "                                               media retweetedTweet  \\\n",
       "0                                                NaN            NaN   \n",
       "1                                                NaN            NaN   \n",
       "2                                                NaN            NaN   \n",
       "3  [{'previewUrl': 'https://pbs.twimg.com/media/E...            NaN   \n",
       "4                                                NaN            NaN   \n",
       "\n",
       "  quotedTweet mentionedUsers coordinates  place         username  \n",
       "0         NaN            NaN         NaN    NaN  LaBandaPindonga  \n",
       "1         NaN            NaN         NaN    NaN  HenryChinaski67  \n",
       "2         NaN            NaN         NaN    NaN        ribaniez1  \n",
       "3         NaN            NaN         NaN    NaN          EcarleF  \n",
       "4         NaN            NaN         NaN    NaN    DrCKambourian  \n",
       "\n",
       "[5 rows x 24 columns]"
      ]
     },
     "execution_count": 142,
     "metadata": {},
     "output_type": "execute_result"
    }
   ],
   "source": [
    "df = pd.read_csv('../data/vacunes_100rt.csv', index_col=0)\n",
    "df.date = pd.to_datetime(df.date)\n",
    "df.head()"
   ]
  },
  {
   "cell_type": "code",
   "execution_count": 143,
   "id": "fedd6775-aab0-411c-8836-83805bf949a1",
   "metadata": {},
   "outputs": [
    {
     "data": {
      "text/plain": [
       "Index(['url', 'date', 'content', 'renderedContent', 'id', 'user', 'outlinks',\n",
       "       'tcooutlinks', 'replyCount', 'retweetCount', 'likeCount', 'quoteCount',\n",
       "       'conversationId', 'lang', 'source', 'sourceUrl', 'sourceLabel', 'media',\n",
       "       'retweetedTweet', 'quotedTweet', 'mentionedUsers', 'coordinates',\n",
       "       'place', 'username'],\n",
       "      dtype='object')"
      ]
     },
     "execution_count": 143,
     "metadata": {},
     "output_type": "execute_result"
    }
   ],
   "source": [
    "df.columns"
   ]
  },
  {
   "cell_type": "markdown",
   "id": "fdfcee55-c425-4293-be63-a71bf5c541fe",
   "metadata": {},
   "source": [
    "## Producción de tweets por día"
   ]
  },
  {
   "cell_type": "code",
   "execution_count": 144,
   "id": "616abfa6-cea3-46e6-852a-ae8228ee3319",
   "metadata": {},
   "outputs": [
    {
     "data": {
      "text/plain": [
       "array([<AxesSubplot:title={'center':'date'}>], dtype=object)"
      ]
     },
     "execution_count": 144,
     "metadata": {},
     "output_type": "execute_result"
    },
    {
     "data": {
      "image/png": "[encoded data removed]",
      "text/plain": [
       "<Figure size 1080x360 with 1 Axes>"
      ]
     },
     "metadata": {
      "needs_background": "light"
     },
     "output_type": "display_data"
    }
   ],
   "source": [
    "fig, ax = plt.subplots(figsize=(15,5))\n",
    "df.hist('date', ax=ax)"
   ]
  },
  {
   "cell_type": "markdown",
   "id": "94bf635a-1a66-4aa4-8917-ae628aa6b617",
   "metadata": {},
   "source": [
    "## Histograma de los contadores"
   ]
  },
  {
   "cell_type": "code",
   "execution_count": 145,
   "id": "ffb67733-1a2a-4828-91d1-04b51697ed58",
   "metadata": {},
   "outputs": [
    {
     "data": {
      "image/png": "[encoded data removed]",
      "text/plain": [
       "<Figure size 1440x1080 with 4 Axes>"
      ]
     },
     "metadata": {
      "needs_background": "light"
     },
     "output_type": "display_data"
    }
   ],
   "source": [
    "fig, axs = plt.subplots(4, 1, figsize=(20,15))\n",
    "df.hist('retweetCount', ax=axs[0])\n",
    "axs[0].set_yscale('log')\n",
    "df.hist('replyCount', ax=axs[1])\n",
    "axs[1].set_yscale('log')\n",
    "df.hist('likeCount', ax=axs[2])\n",
    "axs[2].set_yscale('log')\n",
    "df.hist('quoteCount', ax=axs[3])\n",
    "axs[3].set_yscale('log')"
   ]
  },
  {
   "cell_type": "markdown",
   "id": "4f920149-ab12-4c6d-b387-e8f25dec4540",
   "metadata": {},
   "source": [
    "## Usuarios"
   ]
  },
  {
   "cell_type": "code",
   "execution_count": 151,
   "id": "621969cb-75a0-4fbe-aba9-173f26dac525",
   "metadata": {},
   "outputs": [
    {
     "data": {
      "text/plain": [
       "7951"
      ]
     },
     "execution_count": 151,
     "metadata": {},
     "output_type": "execute_result"
    }
   ],
   "source": [
    "df.username.unique().shape[0]"
   ]
  },
  {
   "cell_type": "code",
   "execution_count": 157,
   "id": "f1875336-8b20-4ae4-affe-594b8d7a3d13",
   "metadata": {},
   "outputs": [
    {
     "data": {
      "text/plain": [
       "username\n",
       "Mippcivzla         310\n",
       "doctormacias       216\n",
       "el_pais            153\n",
       "ActualidadRT       141\n",
       "gorka_orive        139\n",
       "RTultimahora       137\n",
       "HLGatell           132\n",
       "ernestorr          128\n",
       "AFPespanol         109\n",
       "jotaalonso          97\n",
       "SinLinea_Mx         90\n",
       "CNNEE               84\n",
       "C5N                 78\n",
       "askomartin          77\n",
       "FLMIRONES           70\n",
       "spitta1969          69\n",
       "m_ebrard            68\n",
       "AlertaNews24        67\n",
       "petrogustavo        66\n",
       "CancilleriaVE       66\n",
       "nachomdeo           65\n",
       "LuisGasulla         64\n",
       "dw_espanol          62\n",
       "rochaperiodista     62\n",
       "MariettoPonce       60\n",
       "GobiernoMX          60\n",
       "mianrey             59\n",
       "Winston_Dunhill     53\n",
       "StratCons           52\n",
       "LRsecreta           51\n",
       "norabar             50\n",
       "rinconet            50\n",
       "marcelopuella       49\n",
       "Claudiashein        49\n",
       "eldestapeweb        49\n",
       "Nessnio             47\n",
       "elmundoes           46\n",
       "lopezdoriga         46\n",
       "ferbelaunzaran      44\n",
       "Cazatalentos        42\n",
       "ErnesBustamante     41\n",
       "jgnaredo            41\n",
       "LillyTellez         40\n",
       "FerIglesias         40\n",
       "jenarovillamil      39\n",
       "Aerolineas_AR       37\n",
       "EmbRusiaMexico      37\n",
       "alvaro_delgado      37\n",
       "DrPacoMoreno1       36\n",
       "santosjorgeh        36\n",
       "dtype: int64"
      ]
     },
     "execution_count": 157,
     "metadata": {},
     "output_type": "execute_result"
    }
   ],
   "source": [
    "df.groupby(by='username').size().sort_values(ascending=False).head(50)"
   ]
  },
  {
   "cell_type": "code",
   "execution_count": null,
   "id": "01e399fc-d793-4b52-a35b-240b19c1eede",
   "metadata": {},
   "outputs": [],
   "source": [
    "df.username"
   ]
  },
  {
   "cell_type": "markdown",
   "id": "65703173-1dea-434b-8a81-86c2794049cc",
   "metadata": {},
   "source": [
    "## Variables con valores no numéricos\n",
    "\n",
    "Qué porcentaje de estas columnas no es nulo\n",
    "\n",
    "### media"
   ]
  },
  {
   "cell_type": "code",
   "execution_count": 59,
   "id": "4205f180-275c-460a-ae90-9d0d8c27293d",
   "metadata": {},
   "outputs": [
    {
     "data": {
      "text/plain": [
       "31.797413793103445"
      ]
     },
     "execution_count": 59,
     "metadata": {},
     "output_type": "execute_result"
    }
   ],
   "source": [
    "df[df.media.notna()].shape[0] / df.shape[0] * 1e2"
   ]
  },
  {
   "cell_type": "code",
   "execution_count": 63,
   "id": "01a1b533-b073-4258-8230-1ab6bf8bfe03",
   "metadata": {},
   "outputs": [
    {
     "data": {
      "text/html": [
       "<div>\n",
       "<style scoped>\n",
       "    .dataframe tbody tr th:only-of-type {\n",
       "        vertical-align: middle;\n",
       "    }\n",
       "\n",
       "    .dataframe tbody tr th {\n",
       "        vertical-align: top;\n",
       "    }\n",
       "\n",
       "    .dataframe thead th {\n",
       "        text-align: right;\n",
       "    }\n",
       "</style>\n",
       "<table border=\"1\" class=\"dataframe\">\n",
       "  <thead>\n",
       "    <tr style=\"text-align: right;\">\n",
       "      <th></th>\n",
       "      <th>date</th>\n",
       "      <th>content</th>\n",
       "      <th>media</th>\n",
       "    </tr>\n",
       "  </thead>\n",
       "  <tbody>\n",
       "    <tr>\n",
       "      <th>3</th>\n",
       "      <td>2021-04-30 22:21:38+00:00</td>\n",
       "      <td>El Laboratorio Richmond en Argentina va a fabr...</td>\n",
       "      <td>[{'previewUrl': 'https://pbs.twimg.com/media/E...</td>\n",
       "    </tr>\n",
       "    <tr>\n",
       "      <th>5</th>\n",
       "      <td>2021-04-30 21:40:08+00:00</td>\n",
       "      <td>SINCERAMENTE \\nVACUNA 1, VIRUS 0\\n💉💪😷👇 https:/...</td>\n",
       "      <td>[{'thumbnailUrl': 'https://pbs.twimg.com/ext_t...</td>\n",
       "    </tr>\n",
       "    <tr>\n",
       "      <th>6</th>\n",
       "      <td>2021-04-30 21:21:31+00:00</td>\n",
       "      <td>#Noticia 💉 Cómo parte de la población prioriza...</td>\n",
       "      <td>[{'thumbnailUrl': 'https://pbs.twimg.com/ext_t...</td>\n",
       "    </tr>\n",
       "    <tr>\n",
       "      <th>7</th>\n",
       "      <td>2021-04-30 21:03:10+00:00</td>\n",
       "      <td>El ministro de Salud (@MinSaludCol), Fernando ...</td>\n",
       "      <td>[{'previewUrl': 'https://pbs.twimg.com/media/E...</td>\n",
       "    </tr>\n",
       "    <tr>\n",
       "      <th>8</th>\n",
       "      <td>2021-04-30 20:36:19+00:00</td>\n",
       "      <td>🇷🇺🛬🇦🇷 Llegó al Aeropuerto de Ezeiza el 13° avi...</td>\n",
       "      <td>[{'previewUrl': 'https://pbs.twimg.com/media/E...</td>\n",
       "    </tr>\n",
       "  </tbody>\n",
       "</table>\n",
       "</div>"
      ],
      "text/plain": [
       "                       date  \\\n",
       "3 2021-04-30 22:21:38+00:00   \n",
       "5 2021-04-30 21:40:08+00:00   \n",
       "6 2021-04-30 21:21:31+00:00   \n",
       "7 2021-04-30 21:03:10+00:00   \n",
       "8 2021-04-30 20:36:19+00:00   \n",
       "\n",
       "                                             content  \\\n",
       "3  El Laboratorio Richmond en Argentina va a fabr...   \n",
       "5  SINCERAMENTE \\nVACUNA 1, VIRUS 0\\n💉💪😷👇 https:/...   \n",
       "6  #Noticia 💉 Cómo parte de la población prioriza...   \n",
       "7  El ministro de Salud (@MinSaludCol), Fernando ...   \n",
       "8  🇷🇺🛬🇦🇷 Llegó al Aeropuerto de Ezeiza el 13° avi...   \n",
       "\n",
       "                                               media  \n",
       "3  [{'previewUrl': 'https://pbs.twimg.com/media/E...  \n",
       "5  [{'thumbnailUrl': 'https://pbs.twimg.com/ext_t...  \n",
       "6  [{'thumbnailUrl': 'https://pbs.twimg.com/ext_t...  \n",
       "7  [{'previewUrl': 'https://pbs.twimg.com/media/E...  \n",
       "8  [{'previewUrl': 'https://pbs.twimg.com/media/E...  "
      ]
     },
     "execution_count": 63,
     "metadata": {},
     "output_type": "execute_result"
    }
   ],
   "source": [
    "df[df.media.notna()][['date', 'content', 'media']].head(5)"
   ]
  },
  {
   "cell_type": "markdown",
   "id": "1f2eb8e9-108d-43db-b36b-274819c399dd",
   "metadata": {},
   "source": [
    "### retweetedTweet"
   ]
  },
  {
   "cell_type": "markdown",
   "id": "b3c3f9a2-9f8a-4bbd-a9e8-7e8a2c4a790b",
   "metadata": {},
   "source": [
    "No hay ningún tweet que sea retweet:"
   ]
  },
  {
   "cell_type": "code",
   "execution_count": 65,
   "id": "47cbb184-ea8e-40c3-8e99-f82e883f3cf6",
   "metadata": {},
   "outputs": [
    {
     "data": {
      "text/plain": [
       "0.0"
      ]
     },
     "execution_count": 65,
     "metadata": {},
     "output_type": "execute_result"
    }
   ],
   "source": [
    "df[df.retweetedTweet.notna()].shape[0] / df.shape[0] * 1e2"
   ]
  },
  {
   "cell_type": "markdown",
   "id": "d905cb70-a7b0-4e9f-a88e-75113126f648",
   "metadata": {},
   "source": [
    "### quotedTweet"
   ]
  },
  {
   "cell_type": "code",
   "execution_count": 66,
   "id": "f9515ec1-c515-442c-aeed-fea3dc288f6e",
   "metadata": {},
   "outputs": [
    {
     "data": {
      "text/plain": [
       "5.995689655172414"
      ]
     },
     "execution_count": 66,
     "metadata": {},
     "output_type": "execute_result"
    }
   ],
   "source": [
    "df[df.quotedTweet.notna()].shape[0] / df.shape[0] * 1e2"
   ]
  },
  {
   "cell_type": "code",
   "execution_count": 67,
   "id": "f18fecd1-ed0c-4033-8400-b48014f86444",
   "metadata": {},
   "outputs": [
    {
     "data": {
      "text/html": [
       "<div>\n",
       "<style scoped>\n",
       "    .dataframe tbody tr th:only-of-type {\n",
       "        vertical-align: middle;\n",
       "    }\n",
       "\n",
       "    .dataframe tbody tr th {\n",
       "        vertical-align: top;\n",
       "    }\n",
       "\n",
       "    .dataframe thead th {\n",
       "        text-align: right;\n",
       "    }\n",
       "</style>\n",
       "<table border=\"1\" class=\"dataframe\">\n",
       "  <thead>\n",
       "    <tr style=\"text-align: right;\">\n",
       "      <th></th>\n",
       "      <th>date</th>\n",
       "      <th>content</th>\n",
       "      <th>quotedTweet</th>\n",
       "    </tr>\n",
       "  </thead>\n",
       "  <tbody>\n",
       "    <tr>\n",
       "      <th>46</th>\n",
       "      <td>2021-04-30 12:06:06+00:00</td>\n",
       "      <td>No me jodas.\\nQue la EMA ha dicho claramente q...</td>\n",
       "      <td>{'url': 'https://twitter.com/eldiarioes/status...</td>\n",
       "    </tr>\n",
       "    <tr>\n",
       "      <th>62</th>\n",
       "      <td>2021-04-30 01:21:12+00:00</td>\n",
       "      <td>La vacuna Covishield va a dejar de exportarse ...</td>\n",
       "      <td>{'url': 'https://twitter.com/GiSogne/status/13...</td>\n",
       "    </tr>\n",
       "    <tr>\n",
       "      <th>67</th>\n",
       "      <td>2021-04-30 00:15:08+00:00</td>\n",
       "      <td>Un diputado paraguayo utiliza recursos RACISTA...</td>\n",
       "      <td>{'url': 'https://twitter.com/HugoRamirezANR/st...</td>\n",
       "    </tr>\n",
       "    <tr>\n",
       "      <th>70</th>\n",
       "      <td>2021-04-29 23:56:23+00:00</td>\n",
       "      <td>🇷🇺✌️🇲🇽 El nuevo cargamento - esta vez 8⃣0⃣0⃣ m...</td>\n",
       "      <td>{'url': 'https://twitter.com/sputnikvaccine/st...</td>\n",
       "    </tr>\n",
       "    <tr>\n",
       "      <th>85</th>\n",
       "      <td>2021-04-29 21:10:28+00:00</td>\n",
       "      <td>Luego de escándalo internacional por acoso lab...</td>\n",
       "      <td>{'url': 'https://twitter.com/EddyMartin1976/st...</td>\n",
       "    </tr>\n",
       "    <tr>\n",
       "      <th>...</th>\n",
       "      <td>...</td>\n",
       "      <td>...</td>\n",
       "      <td>...</td>\n",
       "    </tr>\n",
       "    <tr>\n",
       "      <th>23147</th>\n",
       "      <td>2020-08-02 17:05:29+00:00</td>\n",
       "      <td>Genial: #ElMequetrefe le ordenó a Fachito Sant...</td>\n",
       "      <td>{'url': 'https://twitter.com/HELIODOPTERO/stat...</td>\n",
       "    </tr>\n",
       "    <tr>\n",
       "      <th>23150</th>\n",
       "      <td>2020-08-02 14:59:41+00:00</td>\n",
       "      <td>Que miedo que sea verdad que la vacuna saldrá ...</td>\n",
       "      <td>{'url': 'https://twitter.com/IriMin05/status/1...</td>\n",
       "    </tr>\n",
       "    <tr>\n",
       "      <th>23151</th>\n",
       "      <td>2020-08-02 14:29:34+00:00</td>\n",
       "      <td>Aquí nos describen como se esta desarrollando ...</td>\n",
       "      <td>{'url': 'https://twitter.com/elespectador/stat...</td>\n",
       "    </tr>\n",
       "    <tr>\n",
       "      <th>23155</th>\n",
       "      <td>2020-08-02 12:34:06+00:00</td>\n",
       "      <td>#AtenciónYSaludParaTodos Rusia culminó las pru...</td>\n",
       "      <td>{'url': 'https://twitter.com/ConElMazoDando/st...</td>\n",
       "    </tr>\n",
       "    <tr>\n",
       "      <th>23193</th>\n",
       "      <td>2020-08-01 13:12:25+00:00</td>\n",
       "      <td>En esta nota de @diariocorreo, @Erick_Rivera96...</td>\n",
       "      <td>{'url': 'https://twitter.com/diariocorreo/stat...</td>\n",
       "    </tr>\n",
       "  </tbody>\n",
       "</table>\n",
       "<p>1391 rows × 3 columns</p>\n",
       "</div>"
      ],
      "text/plain": [
       "                           date  \\\n",
       "46    2021-04-30 12:06:06+00:00   \n",
       "62    2021-04-30 01:21:12+00:00   \n",
       "67    2021-04-30 00:15:08+00:00   \n",
       "70    2021-04-29 23:56:23+00:00   \n",
       "85    2021-04-29 21:10:28+00:00   \n",
       "...                         ...   \n",
       "23147 2020-08-02 17:05:29+00:00   \n",
       "23150 2020-08-02 14:59:41+00:00   \n",
       "23151 2020-08-02 14:29:34+00:00   \n",
       "23155 2020-08-02 12:34:06+00:00   \n",
       "23193 2020-08-01 13:12:25+00:00   \n",
       "\n",
       "                                                 content  \\\n",
       "46     No me jodas.\\nQue la EMA ha dicho claramente q...   \n",
       "62     La vacuna Covishield va a dejar de exportarse ...   \n",
       "67     Un diputado paraguayo utiliza recursos RACISTA...   \n",
       "70     🇷🇺✌️🇲🇽 El nuevo cargamento - esta vez 8⃣0⃣0⃣ m...   \n",
       "85     Luego de escándalo internacional por acoso lab...   \n",
       "...                                                  ...   \n",
       "23147  Genial: #ElMequetrefe le ordenó a Fachito Sant...   \n",
       "23150  Que miedo que sea verdad que la vacuna saldrá ...   \n",
       "23151  Aquí nos describen como se esta desarrollando ...   \n",
       "23155  #AtenciónYSaludParaTodos Rusia culminó las pru...   \n",
       "23193  En esta nota de @diariocorreo, @Erick_Rivera96...   \n",
       "\n",
       "                                             quotedTweet  \n",
       "46     {'url': 'https://twitter.com/eldiarioes/status...  \n",
       "62     {'url': 'https://twitter.com/GiSogne/status/13...  \n",
       "67     {'url': 'https://twitter.com/HugoRamirezANR/st...  \n",
       "70     {'url': 'https://twitter.com/sputnikvaccine/st...  \n",
       "85     {'url': 'https://twitter.com/EddyMartin1976/st...  \n",
       "...                                                  ...  \n",
       "23147  {'url': 'https://twitter.com/HELIODOPTERO/stat...  \n",
       "23150  {'url': 'https://twitter.com/IriMin05/status/1...  \n",
       "23151  {'url': 'https://twitter.com/elespectador/stat...  \n",
       "23155  {'url': 'https://twitter.com/ConElMazoDando/st...  \n",
       "23193  {'url': 'https://twitter.com/diariocorreo/stat...  \n",
       "\n",
       "[1391 rows x 3 columns]"
      ]
     },
     "execution_count": 67,
     "metadata": {},
     "output_type": "execute_result"
    }
   ],
   "source": [
    "df[df.quotedTweet.notna()][['date', 'content', \"quotedTweet\"]]"
   ]
  },
  {
   "cell_type": "markdown",
   "id": "c3acf88a-1564-4e9a-849b-a409f43de328",
   "metadata": {},
   "source": [
    "## mentionedUsers"
   ]
  },
  {
   "cell_type": "code",
   "execution_count": 68,
   "id": "d66f9ac2-a64e-4290-be8e-a66a38538592",
   "metadata": {},
   "outputs": [
    {
     "data": {
      "text/plain": [
       "16.987068965517242"
      ]
     },
     "execution_count": 68,
     "metadata": {},
     "output_type": "execute_result"
    }
   ],
   "source": [
    "df[df.mentionedUsers.notna()].shape[0] / df.shape[0] * 1e2"
   ]
  },
  {
   "cell_type": "code",
   "execution_count": 69,
   "id": "6aa01a05-f49b-4e66-8723-90b5f7182a28",
   "metadata": {},
   "outputs": [
    {
     "data": {
      "text/html": [
       "<div>\n",
       "<style scoped>\n",
       "    .dataframe tbody tr th:only-of-type {\n",
       "        vertical-align: middle;\n",
       "    }\n",
       "\n",
       "    .dataframe tbody tr th {\n",
       "        vertical-align: top;\n",
       "    }\n",
       "\n",
       "    .dataframe thead th {\n",
       "        text-align: right;\n",
       "    }\n",
       "</style>\n",
       "<table border=\"1\" class=\"dataframe\">\n",
       "  <thead>\n",
       "    <tr style=\"text-align: right;\">\n",
       "      <th></th>\n",
       "      <th>date</th>\n",
       "      <th>content</th>\n",
       "      <th>mentionedUsers</th>\n",
       "    </tr>\n",
       "  </thead>\n",
       "  <tbody>\n",
       "    <tr>\n",
       "      <th>6</th>\n",
       "      <td>2021-04-30 21:21:31+00:00</td>\n",
       "      <td>#Noticia 💉 Cómo parte de la población prioriza...</td>\n",
       "      <td>[{'username': 'Fruizgomez', 'displayname': 'Fe...</td>\n",
       "    </tr>\n",
       "    <tr>\n",
       "      <th>7</th>\n",
       "      <td>2021-04-30 21:03:10+00:00</td>\n",
       "      <td>El ministro de Salud (@MinSaludCol), Fernando ...</td>\n",
       "      <td>[{'username': 'MinSaludCol', 'displayname': 'M...</td>\n",
       "    </tr>\n",
       "    <tr>\n",
       "      <th>8</th>\n",
       "      <td>2021-04-30 20:36:19+00:00</td>\n",
       "      <td>🇷🇺🛬🇦🇷 Llegó al Aeropuerto de Ezeiza el 13° avi...</td>\n",
       "      <td>[{'username': 'Aerolineas_AR', 'displayname': ...</td>\n",
       "    </tr>\n",
       "    <tr>\n",
       "      <th>27</th>\n",
       "      <td>2021-04-30 17:24:50+00:00</td>\n",
       "      <td>\"La cultura es una vacuna frente al odio, es e...</td>\n",
       "      <td>[{'username': 'isaserras', 'displayname': 'Isa...</td>\n",
       "    </tr>\n",
       "    <tr>\n",
       "      <th>39</th>\n",
       "      <td>2021-04-30 13:02:12+00:00</td>\n",
       "      <td>#BeatoDelPueblo @rafael_1981_198😷🇻🇪 nuestra me...</td>\n",
       "      <td>[{'username': 'rafael_1981_198', 'displayname'...</td>\n",
       "    </tr>\n",
       "  </tbody>\n",
       "</table>\n",
       "</div>"
      ],
      "text/plain": [
       "                        date  \\\n",
       "6  2021-04-30 21:21:31+00:00   \n",
       "7  2021-04-30 21:03:10+00:00   \n",
       "8  2021-04-30 20:36:19+00:00   \n",
       "27 2021-04-30 17:24:50+00:00   \n",
       "39 2021-04-30 13:02:12+00:00   \n",
       "\n",
       "                                              content  \\\n",
       "6   #Noticia 💉 Cómo parte de la población prioriza...   \n",
       "7   El ministro de Salud (@MinSaludCol), Fernando ...   \n",
       "8   🇷🇺🛬🇦🇷 Llegó al Aeropuerto de Ezeiza el 13° avi...   \n",
       "27  \"La cultura es una vacuna frente al odio, es e...   \n",
       "39  #BeatoDelPueblo @rafael_1981_198😷🇻🇪 nuestra me...   \n",
       "\n",
       "                                       mentionedUsers  \n",
       "6   [{'username': 'Fruizgomez', 'displayname': 'Fe...  \n",
       "7   [{'username': 'MinSaludCol', 'displayname': 'M...  \n",
       "8   [{'username': 'Aerolineas_AR', 'displayname': ...  \n",
       "27  [{'username': 'isaserras', 'displayname': 'Isa...  \n",
       "39  [{'username': 'rafael_1981_198', 'displayname'...  "
      ]
     },
     "execution_count": 69,
     "metadata": {},
     "output_type": "execute_result"
    }
   ],
   "source": [
    "df[df.mentionedUsers.notna()].head(5)[['date', 'content', 'mentionedUsers']]"
   ]
  },
  {
   "cell_type": "markdown",
   "id": "6c6a0af8-8843-4d4f-bf04-54d0412f6a64",
   "metadata": {},
   "source": [
    "## coordinates"
   ]
  },
  {
   "cell_type": "code",
   "execution_count": 70,
   "id": "bc34015b-400b-4565-832c-6fce44d764c9",
   "metadata": {},
   "outputs": [
    {
     "data": {
      "text/plain": [
       "2.0172413793103448"
      ]
     },
     "execution_count": 70,
     "metadata": {},
     "output_type": "execute_result"
    }
   ],
   "source": [
    "df[df.coordinates.notna()].shape[0] / df.shape[0] * 1e2"
   ]
  },
  {
   "cell_type": "markdown",
   "id": "cadffac7-bdf2-44f1-afa3-468f02623531",
   "metadata": {},
   "source": [
    "## place"
   ]
  },
  {
   "cell_type": "code",
   "execution_count": 71,
   "id": "69d1b8c3-f870-4ffb-8aee-0f2dfb8cc9c4",
   "metadata": {},
   "outputs": [
    {
     "data": {
      "text/plain": [
       "2.0172413793103448"
      ]
     },
     "execution_count": 71,
     "metadata": {},
     "output_type": "execute_result"
    }
   ],
   "source": [
    "df[df.place.notna()].shape[0] / df.shape[0] * 1e2"
   ]
  },
  {
   "cell_type": "markdown",
   "id": "70800646-4baa-42bc-8c89-c4c94c639b39",
   "metadata": {},
   "source": [
    "_coordinates_ y _place_ van a la par:"
   ]
  },
  {
   "cell_type": "code",
   "execution_count": 72,
   "id": "3fa3dd3e-5977-4fce-9b57-7ffb543d4bb8",
   "metadata": {},
   "outputs": [
    {
     "data": {
      "text/plain": [
       "2.0172413793103448"
      ]
     },
     "execution_count": 72,
     "metadata": {},
     "output_type": "execute_result"
    }
   ],
   "source": [
    "df[df.place.notna() & df.coordinates.notna()].shape[0] / df.shape[0] * 1e2"
   ]
  },
  {
   "cell_type": "markdown",
   "id": "b692539c-57f6-4104-9eab-91f204fef3e7",
   "metadata": {},
   "source": [
    "### outlinks"
   ]
  },
  {
   "cell_type": "code",
   "execution_count": 74,
   "id": "aa7b9c4e-f6a4-4d7d-97f0-353e3da76446",
   "metadata": {},
   "outputs": [
    {
     "data": {
      "text/plain": [
       "0    []\n",
       "1    []\n",
       "2    []\n",
       "3    []\n",
       "4    []\n",
       "Name: outlinks, dtype: object"
      ]
     },
     "execution_count": 74,
     "metadata": {},
     "output_type": "execute_result"
    }
   ],
   "source": [
    "df.outlinks.head()"
   ]
  },
  {
   "cell_type": "code",
   "execution_count": 85,
   "id": "39021f44-5f8c-445d-b5da-a37dc01e8b49",
   "metadata": {},
   "outputs": [
    {
     "data": {
      "text/html": [
       "<div>\n",
       "<style scoped>\n",
       "    .dataframe tbody tr th:only-of-type {\n",
       "        vertical-align: middle;\n",
       "    }\n",
       "\n",
       "    .dataframe tbody tr th {\n",
       "        vertical-align: top;\n",
       "    }\n",
       "\n",
       "    .dataframe thead th {\n",
       "        text-align: right;\n",
       "    }\n",
       "</style>\n",
       "<table border=\"1\" class=\"dataframe\">\n",
       "  <thead>\n",
       "    <tr style=\"text-align: right;\">\n",
       "      <th></th>\n",
       "      <th>date</th>\n",
       "      <th>content</th>\n",
       "      <th>outlinks</th>\n",
       "    </tr>\n",
       "  </thead>\n",
       "  <tbody>\n",
       "    <tr>\n",
       "      <th>6</th>\n",
       "      <td>2021-04-30 21:21:31+00:00</td>\n",
       "      <td>#Noticia 💉 Cómo parte de la población prioriza...</td>\n",
       "      <td>['https://bit.ly/3u9DZSm']</td>\n",
       "    </tr>\n",
       "    <tr>\n",
       "      <th>8</th>\n",
       "      <td>2021-04-30 20:36:19+00:00</td>\n",
       "      <td>🇷🇺🛬🇦🇷 Llegó al Aeropuerto de Ezeiza el 13° avi...</td>\n",
       "      <td>['https://bit.ly/3xEeavB']</td>\n",
       "    </tr>\n",
       "    <tr>\n",
       "      <th>12</th>\n",
       "      <td>2021-04-30 20:00:53+00:00</td>\n",
       "      <td>EN VIVO | Coronavirus COVID 19 - Llegada desde...</td>\n",
       "      <td>['https://twitter.com/i/broadcasts/1dRKZNOLyZr...</td>\n",
       "    </tr>\n",
       "    <tr>\n",
       "      <th>15</th>\n",
       "      <td>2021-04-30 19:36:39+00:00</td>\n",
       "      <td>Avanza acuerdo para fabricar la vacuna de Sino...</td>\n",
       "      <td>['http://bit.ly/3xvNVYi']</td>\n",
       "    </tr>\n",
       "    <tr>\n",
       "      <th>24</th>\n",
       "      <td>2021-04-30 17:44:54+00:00</td>\n",
       "      <td>ÚLTIMA HORA\\nRusia: La vacuna Sputink V garant...</td>\n",
       "      <td>['https://es.rt.com/8do2']</td>\n",
       "    </tr>\n",
       "    <tr>\n",
       "      <th>...</th>\n",
       "      <td>...</td>\n",
       "      <td>...</td>\n",
       "      <td>...</td>\n",
       "    </tr>\n",
       "    <tr>\n",
       "      <th>23187</th>\n",
       "      <td>2020-08-01 15:27:41+00:00</td>\n",
       "      <td>Rusia ya terminó pruebas clínicas de primera v...</td>\n",
       "      <td>['https://www.laiguana.tv/articulos/775169-rus...</td>\n",
       "    </tr>\n",
       "    <tr>\n",
       "      <th>23188</th>\n",
       "      <td>2020-08-01 14:58:37+00:00</td>\n",
       "      <td>Este es el estudio que mostró que la vacuna de...</td>\n",
       "      <td>['https://www.nejm.org/doi/full/10.1056/NEJMoa...</td>\n",
       "    </tr>\n",
       "    <tr>\n",
       "      <th>23193</th>\n",
       "      <td>2020-08-01 13:12:25+00:00</td>\n",
       "      <td>En esta nota de @diariocorreo, @Erick_Rivera96...</td>\n",
       "      <td>['https://twitter.com/diariocorreo/status/1289...</td>\n",
       "    </tr>\n",
       "    <tr>\n",
       "      <th>23194</th>\n",
       "      <td>2020-08-01 10:00:06+00:00</td>\n",
       "      <td>El ministro ruso de Sanidad ha anunciado que l...</td>\n",
       "      <td>['https://bit.ly/39LRZIm']</td>\n",
       "    </tr>\n",
       "    <tr>\n",
       "      <th>23199</th>\n",
       "      <td>2020-08-01 00:23:59+00:00</td>\n",
       "      <td>1 Estar lejos de la vacuna de influenza del pr...</td>\n",
       "      <td>['https://www.pscp.tv/GiuseppeNoc/1yNGaBeoWkWJ...</td>\n",
       "    </tr>\n",
       "  </tbody>\n",
       "</table>\n",
       "<p>5459 rows × 3 columns</p>\n",
       "</div>"
      ],
      "text/plain": [
       "                           date  \\\n",
       "6     2021-04-30 21:21:31+00:00   \n",
       "8     2021-04-30 20:36:19+00:00   \n",
       "12    2021-04-30 20:00:53+00:00   \n",
       "15    2021-04-30 19:36:39+00:00   \n",
       "24    2021-04-30 17:44:54+00:00   \n",
       "...                         ...   \n",
       "23187 2020-08-01 15:27:41+00:00   \n",
       "23188 2020-08-01 14:58:37+00:00   \n",
       "23193 2020-08-01 13:12:25+00:00   \n",
       "23194 2020-08-01 10:00:06+00:00   \n",
       "23199 2020-08-01 00:23:59+00:00   \n",
       "\n",
       "                                                 content  \\\n",
       "6      #Noticia 💉 Cómo parte de la población prioriza...   \n",
       "8      🇷🇺🛬🇦🇷 Llegó al Aeropuerto de Ezeiza el 13° avi...   \n",
       "12     EN VIVO | Coronavirus COVID 19 - Llegada desde...   \n",
       "15     Avanza acuerdo para fabricar la vacuna de Sino...   \n",
       "24     ÚLTIMA HORA\\nRusia: La vacuna Sputink V garant...   \n",
       "...                                                  ...   \n",
       "23187  Rusia ya terminó pruebas clínicas de primera v...   \n",
       "23188  Este es el estudio que mostró que la vacuna de...   \n",
       "23193  En esta nota de @diariocorreo, @Erick_Rivera96...   \n",
       "23194  El ministro ruso de Sanidad ha anunciado que l...   \n",
       "23199  1 Estar lejos de la vacuna de influenza del pr...   \n",
       "\n",
       "                                                outlinks  \n",
       "6                             ['https://bit.ly/3u9DZSm']  \n",
       "8                             ['https://bit.ly/3xEeavB']  \n",
       "12     ['https://twitter.com/i/broadcasts/1dRKZNOLyZr...  \n",
       "15                             ['http://bit.ly/3xvNVYi']  \n",
       "24                            ['https://es.rt.com/8do2']  \n",
       "...                                                  ...  \n",
       "23187  ['https://www.laiguana.tv/articulos/775169-rus...  \n",
       "23188  ['https://www.nejm.org/doi/full/10.1056/NEJMoa...  \n",
       "23193  ['https://twitter.com/diariocorreo/status/1289...  \n",
       "23194                         ['https://bit.ly/39LRZIm']  \n",
       "23199  ['https://www.pscp.tv/GiuseppeNoc/1yNGaBeoWkWJ...  \n",
       "\n",
       "[5459 rows x 3 columns]"
      ]
     },
     "execution_count": 85,
     "metadata": {},
     "output_type": "execute_result"
    }
   ],
   "source": [
    "df[df.outlinks != '[]'][['date', 'content', 'outlinks']]"
   ]
  },
  {
   "cell_type": "code",
   "execution_count": 86,
   "id": "89ae631a-a7b1-4fc5-ae89-b895f99de6a6",
   "metadata": {},
   "outputs": [
    {
     "data": {
      "text/plain": [
       "23.530172413793103"
      ]
     },
     "execution_count": 86,
     "metadata": {},
     "output_type": "execute_result"
    }
   ],
   "source": [
    "df[df.outlinks != '[]'][['date', 'content', 'outlinks']].shape[0] / df.shape[0] * 1e2"
   ]
  },
  {
   "cell_type": "markdown",
   "id": "0ca12468-a6c7-4fd1-b035-f97da203d677",
   "metadata": {},
   "source": [
    "### tocooutlinks"
   ]
  },
  {
   "cell_type": "code",
   "execution_count": 88,
   "id": "33bae019-63bc-4ee7-be15-981e4d6fa5bb",
   "metadata": {},
   "outputs": [
    {
     "data": {
      "text/html": [
       "<div>\n",
       "<style scoped>\n",
       "    .dataframe tbody tr th:only-of-type {\n",
       "        vertical-align: middle;\n",
       "    }\n",
       "\n",
       "    .dataframe tbody tr th {\n",
       "        vertical-align: top;\n",
       "    }\n",
       "\n",
       "    .dataframe thead th {\n",
       "        text-align: right;\n",
       "    }\n",
       "</style>\n",
       "<table border=\"1\" class=\"dataframe\">\n",
       "  <thead>\n",
       "    <tr style=\"text-align: right;\">\n",
       "      <th></th>\n",
       "      <th>date</th>\n",
       "      <th>content</th>\n",
       "      <th>outlinks</th>\n",
       "    </tr>\n",
       "  </thead>\n",
       "  <tbody>\n",
       "    <tr>\n",
       "      <th>6</th>\n",
       "      <td>2021-04-30 21:21:31+00:00</td>\n",
       "      <td>#Noticia 💉 Cómo parte de la población prioriza...</td>\n",
       "      <td>['https://bit.ly/3u9DZSm']</td>\n",
       "    </tr>\n",
       "    <tr>\n",
       "      <th>8</th>\n",
       "      <td>2021-04-30 20:36:19+00:00</td>\n",
       "      <td>🇷🇺🛬🇦🇷 Llegó al Aeropuerto de Ezeiza el 13° avi...</td>\n",
       "      <td>['https://bit.ly/3xEeavB']</td>\n",
       "    </tr>\n",
       "    <tr>\n",
       "      <th>12</th>\n",
       "      <td>2021-04-30 20:00:53+00:00</td>\n",
       "      <td>EN VIVO | Coronavirus COVID 19 - Llegada desde...</td>\n",
       "      <td>['https://twitter.com/i/broadcasts/1dRKZNOLyZr...</td>\n",
       "    </tr>\n",
       "    <tr>\n",
       "      <th>15</th>\n",
       "      <td>2021-04-30 19:36:39+00:00</td>\n",
       "      <td>Avanza acuerdo para fabricar la vacuna de Sino...</td>\n",
       "      <td>['http://bit.ly/3xvNVYi']</td>\n",
       "    </tr>\n",
       "    <tr>\n",
       "      <th>24</th>\n",
       "      <td>2021-04-30 17:44:54+00:00</td>\n",
       "      <td>ÚLTIMA HORA\\nRusia: La vacuna Sputink V garant...</td>\n",
       "      <td>['https://es.rt.com/8do2']</td>\n",
       "    </tr>\n",
       "    <tr>\n",
       "      <th>...</th>\n",
       "      <td>...</td>\n",
       "      <td>...</td>\n",
       "      <td>...</td>\n",
       "    </tr>\n",
       "    <tr>\n",
       "      <th>23187</th>\n",
       "      <td>2020-08-01 15:27:41+00:00</td>\n",
       "      <td>Rusia ya terminó pruebas clínicas de primera v...</td>\n",
       "      <td>['https://www.laiguana.tv/articulos/775169-rus...</td>\n",
       "    </tr>\n",
       "    <tr>\n",
       "      <th>23188</th>\n",
       "      <td>2020-08-01 14:58:37+00:00</td>\n",
       "      <td>Este es el estudio que mostró que la vacuna de...</td>\n",
       "      <td>['https://www.nejm.org/doi/full/10.1056/NEJMoa...</td>\n",
       "    </tr>\n",
       "    <tr>\n",
       "      <th>23193</th>\n",
       "      <td>2020-08-01 13:12:25+00:00</td>\n",
       "      <td>En esta nota de @diariocorreo, @Erick_Rivera96...</td>\n",
       "      <td>['https://twitter.com/diariocorreo/status/1289...</td>\n",
       "    </tr>\n",
       "    <tr>\n",
       "      <th>23194</th>\n",
       "      <td>2020-08-01 10:00:06+00:00</td>\n",
       "      <td>El ministro ruso de Sanidad ha anunciado que l...</td>\n",
       "      <td>['https://bit.ly/39LRZIm']</td>\n",
       "    </tr>\n",
       "    <tr>\n",
       "      <th>23199</th>\n",
       "      <td>2020-08-01 00:23:59+00:00</td>\n",
       "      <td>1 Estar lejos de la vacuna de influenza del pr...</td>\n",
       "      <td>['https://www.pscp.tv/GiuseppeNoc/1yNGaBeoWkWJ...</td>\n",
       "    </tr>\n",
       "  </tbody>\n",
       "</table>\n",
       "<p>5459 rows × 3 columns</p>\n",
       "</div>"
      ],
      "text/plain": [
       "                           date  \\\n",
       "6     2021-04-30 21:21:31+00:00   \n",
       "8     2021-04-30 20:36:19+00:00   \n",
       "12    2021-04-30 20:00:53+00:00   \n",
       "15    2021-04-30 19:36:39+00:00   \n",
       "24    2021-04-30 17:44:54+00:00   \n",
       "...                         ...   \n",
       "23187 2020-08-01 15:27:41+00:00   \n",
       "23188 2020-08-01 14:58:37+00:00   \n",
       "23193 2020-08-01 13:12:25+00:00   \n",
       "23194 2020-08-01 10:00:06+00:00   \n",
       "23199 2020-08-01 00:23:59+00:00   \n",
       "\n",
       "                                                 content  \\\n",
       "6      #Noticia 💉 Cómo parte de la población prioriza...   \n",
       "8      🇷🇺🛬🇦🇷 Llegó al Aeropuerto de Ezeiza el 13° avi...   \n",
       "12     EN VIVO | Coronavirus COVID 19 - Llegada desde...   \n",
       "15     Avanza acuerdo para fabricar la vacuna de Sino...   \n",
       "24     ÚLTIMA HORA\\nRusia: La vacuna Sputink V garant...   \n",
       "...                                                  ...   \n",
       "23187  Rusia ya terminó pruebas clínicas de primera v...   \n",
       "23188  Este es el estudio que mostró que la vacuna de...   \n",
       "23193  En esta nota de @diariocorreo, @Erick_Rivera96...   \n",
       "23194  El ministro ruso de Sanidad ha anunciado que l...   \n",
       "23199  1 Estar lejos de la vacuna de influenza del pr...   \n",
       "\n",
       "                                                outlinks  \n",
       "6                             ['https://bit.ly/3u9DZSm']  \n",
       "8                             ['https://bit.ly/3xEeavB']  \n",
       "12     ['https://twitter.com/i/broadcasts/1dRKZNOLyZr...  \n",
       "15                             ['http://bit.ly/3xvNVYi']  \n",
       "24                            ['https://es.rt.com/8do2']  \n",
       "...                                                  ...  \n",
       "23187  ['https://www.laiguana.tv/articulos/775169-rus...  \n",
       "23188  ['https://www.nejm.org/doi/full/10.1056/NEJMoa...  \n",
       "23193  ['https://twitter.com/diariocorreo/status/1289...  \n",
       "23194                         ['https://bit.ly/39LRZIm']  \n",
       "23199  ['https://www.pscp.tv/GiuseppeNoc/1yNGaBeoWkWJ...  \n",
       "\n",
       "[5459 rows x 3 columns]"
      ]
     },
     "execution_count": 88,
     "metadata": {},
     "output_type": "execute_result"
    }
   ],
   "source": [
    "df[df.tcooutlinks != '[]'][['date', 'content', 'outlinks']]"
   ]
  },
  {
   "cell_type": "code",
   "execution_count": 98,
   "id": "a5ee8477-314e-4fe3-a13e-94bdfd67c27f",
   "metadata": {},
   "outputs": [
    {
     "data": {
      "text/plain": [
       "23.530172413793103"
      ]
     },
     "execution_count": 98,
     "metadata": {},
     "output_type": "execute_result"
    }
   ],
   "source": [
    "df[df.tcooutlinks != '[]'][['date', 'content', 'tcooutlinks']].shape[0] / df.shape[0] * 1e2"
   ]
  },
  {
   "cell_type": "markdown",
   "id": "8233a275-0395-417d-bc35-7b623f12aef5",
   "metadata": {},
   "source": [
    "_outlinks_ y _tocooutlinks_ vuelven a ir juntos:"
   ]
  },
  {
   "cell_type": "code",
   "execution_count": 99,
   "id": "aa945e0b-9a0e-4915-861f-ec1fd422d83f",
   "metadata": {},
   "outputs": [
    {
     "data": {
      "text/plain": [
       "23.530172413793103"
      ]
     },
     "execution_count": 99,
     "metadata": {},
     "output_type": "execute_result"
    }
   ],
   "source": [
    "df[ (df.tcooutlinks != '[]') & (df.outlinks != '[]') ][['date', 'content', 'tcooutlinks']].shape[0] / df.shape[0] * 1e2"
   ]
  },
  {
   "cell_type": "markdown",
   "id": "813acd86-4fa5-48bc-946b-d84b1a6f7d3d",
   "metadata": {},
   "source": [
    "Siempre son diferentes cuando no son '\\[\\]'"
   ]
  },
  {
   "cell_type": "code",
   "execution_count": 102,
   "id": "8b3d3a1b-0d33-4982-b7c8-d360af74aeff",
   "metadata": {},
   "outputs": [
    {
     "data": {
      "text/plain": [
       "76.46982758620689"
      ]
     },
     "execution_count": 102,
     "metadata": {},
     "output_type": "execute_result"
    }
   ],
   "source": [
    "df[(df.tcooutlinks == df.outlinks) ][['date', 'content', 'tcooutlinks']].shape[0] / df.shape[0] * 1e2"
   ]
  },
  {
   "cell_type": "code",
   "execution_count": 103,
   "id": "cc63850e-b9cc-4b51-b38e-dac1bd4e478c",
   "metadata": {},
   "outputs": [
    {
     "data": {
      "text/html": [
       "<div>\n",
       "<style scoped>\n",
       "    .dataframe tbody tr th:only-of-type {\n",
       "        vertical-align: middle;\n",
       "    }\n",
       "\n",
       "    .dataframe tbody tr th {\n",
       "        vertical-align: top;\n",
       "    }\n",
       "\n",
       "    .dataframe thead th {\n",
       "        text-align: right;\n",
       "    }\n",
       "</style>\n",
       "<table border=\"1\" class=\"dataframe\">\n",
       "  <thead>\n",
       "    <tr style=\"text-align: right;\">\n",
       "      <th></th>\n",
       "      <th>date</th>\n",
       "      <th>content</th>\n",
       "      <th>outlinks</th>\n",
       "      <th>tcooutlinks</th>\n",
       "    </tr>\n",
       "  </thead>\n",
       "  <tbody>\n",
       "  </tbody>\n",
       "</table>\n",
       "</div>"
      ],
      "text/plain": [
       "Empty DataFrame\n",
       "Columns: [date, content, outlinks, tcooutlinks]\n",
       "Index: []"
      ]
     },
     "execution_count": 103,
     "metadata": {},
     "output_type": "execute_result"
    }
   ],
   "source": [
    "df[(df.tcooutlinks == df.outlinks) & (df.outlinks != '[]') ][['date', 'content', 'outlinks', 'tcooutlinks']]"
   ]
  },
  {
   "cell_type": "markdown",
   "id": "d1027ae0-0d9f-44f9-94a7-10da5cc70c81",
   "metadata": {},
   "source": [
    "## Agrupaciones"
   ]
  },
  {
   "cell_type": "code",
   "execution_count": 107,
   "id": "8790fab9-726d-4481-b8cd-d64bd47ec8f7",
   "metadata": {},
   "outputs": [
    {
     "data": {
      "text/plain": [
       "Twitter for iPhone      7217\n",
       "Twitter for Android     6815\n",
       "Twitter Web App         6197\n",
       "TweetDeck               1411\n",
       "Twitter Media Studio     421\n",
       "                        ... \n",
       "Agorapulse app             1\n",
       "pulzocol                   1\n",
       "GRFeed                     1\n",
       "Metricool                  1\n",
       "RT News Sharing            1\n",
       "Name: sourceLabel, Length: 61, dtype: int64"
      ]
     },
     "execution_count": 107,
     "metadata": {},
     "output_type": "execute_result"
    }
   ],
   "source": [
    "df.sourceLabel.value_counts()"
   ]
  },
  {
   "cell_type": "markdown",
   "id": "121d58ac-bfa1-4f9c-8f26-aa6ea1fbe951",
   "metadata": {},
   "source": [
    "Casi todo son conversaciones diferentes:"
   ]
  },
  {
   "cell_type": "code",
   "execution_count": 110,
   "id": "6f15ae8a-1f82-4578-a7e9-0af952ca9b62",
   "metadata": {},
   "outputs": [
    {
     "name": "stdout",
     "output_type": "stream",
     "text": [
      "98.9094827586207 \n",
      "\n"
     ]
    },
    {
     "data": {
      "text/plain": [
       "1340826495326031872    9\n",
       "1354152577009639425    9\n",
       "1378558945342676992    8\n",
       "1374920990443110417    6\n",
       "1340990294754553856    6\n",
       "                      ..\n",
       "1357155065199554562    1\n",
       "1298307217377185792    1\n",
       "1354430599742763009    1\n",
       "1369311170981748741    1\n",
       "1380599570929946624    1\n",
       "Name: conversationId, Length: 22947, dtype: int64"
      ]
     },
     "execution_count": 110,
     "metadata": {},
     "output_type": "execute_result"
    }
   ],
   "source": [
    "print(df.conversationId.value_counts().shape[0] / df.shape[0] * 1e2, '\\n')\n",
    "df.conversationId.value_counts()"
   ]
  },
  {
   "cell_type": "code",
   "execution_count": 116,
   "id": "a95d71cc-e006-4541-bc7a-d3d759141c13",
   "metadata": {},
   "outputs": [
    {
     "data": {
      "text/plain": [
       "1.0"
      ]
     },
     "execution_count": 116,
     "metadata": {},
     "output_type": "execute_result"
    }
   ],
   "source": [
    "df.id.unique().shape[0] / df.id.shape[0]"
   ]
  },
  {
   "cell_type": "code",
   "execution_count": 128,
   "id": "fe623ec2-0658-4d79-9762-fe6fe1814b3a",
   "metadata": {},
   "outputs": [
    {
     "data": {
      "text/plain": [
       "es     22799\n",
       "ca       338\n",
       "ro        15\n",
       "und       15\n",
       "en        13\n",
       "it         8\n",
       "pt         6\n",
       "cs         2\n",
       "fr         1\n",
       "uk         1\n",
       "et         1\n",
       "tl         1\n",
       "Name: lang, dtype: int64"
      ]
     },
     "execution_count": 128,
     "metadata": {},
     "output_type": "execute_result"
    }
   ],
   "source": [
    "df.lang.value_counts()"
   ]
  },
  {
   "cell_type": "markdown",
   "id": "2c8b63cf-b413-44fd-a5f5-373c9596d92a",
   "metadata": {},
   "source": [
    "Muchos están mal etiquetados:"
   ]
  },
  {
   "cell_type": "code",
   "execution_count": 129,
   "id": "a4349455-a4da-4760-ad5a-4f2e377e9d38",
   "metadata": {},
   "outputs": [
    {
     "data": {
      "text/html": [
       "<div>\n",
       "<style scoped>\n",
       "    .dataframe tbody tr th:only-of-type {\n",
       "        vertical-align: middle;\n",
       "    }\n",
       "\n",
       "    .dataframe tbody tr th {\n",
       "        vertical-align: top;\n",
       "    }\n",
       "\n",
       "    .dataframe thead th {\n",
       "        text-align: right;\n",
       "    }\n",
       "</style>\n",
       "<table border=\"1\" class=\"dataframe\">\n",
       "  <thead>\n",
       "    <tr style=\"text-align: right;\">\n",
       "      <th></th>\n",
       "      <th>date</th>\n",
       "      <th>content</th>\n",
       "    </tr>\n",
       "  </thead>\n",
       "  <tbody>\n",
       "    <tr>\n",
       "      <th>89</th>\n",
       "      <td>2021-04-29 20:09:21+00:00</td>\n",
       "      <td>VACUNA O MUERTE! #GetVaccinated #COVID19 is no...</td>\n",
       "    </tr>\n",
       "    <tr>\n",
       "      <th>511</th>\n",
       "      <td>2021-04-24 19:58:35+00:00</td>\n",
       "      <td>Vacuna matata https://t.co/aXnKXNRgJn</td>\n",
       "    </tr>\n",
       "    <tr>\n",
       "      <th>694</th>\n",
       "      <td>2021-04-22 10:58:15+00:00</td>\n",
       "      <td>Mi padre post-vacuna https://t.co/1YVIf0fCon</td>\n",
       "    </tr>\n",
       "    <tr>\n",
       "      <th>695</th>\n",
       "      <td>2021-04-22 09:40:42+00:00</td>\n",
       "      <td>Periodista, di vacuna... https://t.co/hhRsV7Gf4R</td>\n",
       "    </tr>\n",
       "    <tr>\n",
       "      <th>1611</th>\n",
       "      <td>2021-04-14 12:41:02+00:00</td>\n",
       "      <td>Informe del @msalnacion sobre   porcentaje de ...</td>\n",
       "    </tr>\n",
       "    <tr>\n",
       "      <th>2733</th>\n",
       "      <td>2021-04-08 14:11:48+00:00</td>\n",
       "      <td>Solicita la vacuna Sputnik hoy y te regalamos ...</td>\n",
       "    </tr>\n",
       "    <tr>\n",
       "      <th>4042</th>\n",
       "      <td>2021-03-31 14:36:18+00:00</td>\n",
       "      <td>Descarga de dosis de vacuna de Pfizer. https:/...</td>\n",
       "    </tr>\n",
       "    <tr>\n",
       "      <th>4058</th>\n",
       "      <td>2021-03-31 12:40:30+00:00</td>\n",
       "      <td>👏 Arriba a @AICM_mx un avión ✈️ procedente de ...</td>\n",
       "    </tr>\n",
       "    <tr>\n",
       "      <th>4161</th>\n",
       "      <td>2021-03-30 15:46:54+00:00</td>\n",
       "      <td>Lupito Ferrer se vacuna https://t.co/hpb4jisFu3</td>\n",
       "    </tr>\n",
       "    <tr>\n",
       "      <th>4936</th>\n",
       "      <td>2021-03-23 16:51:10+00:00</td>\n",
       "      <td>GREAT news: @TexasDSHS has announced that ALL ...</td>\n",
       "    </tr>\n",
       "    <tr>\n",
       "      <th>5064</th>\n",
       "      <td>2021-03-22 13:05:38+00:00</td>\n",
       "      <td>La vacuna de O/AZ cuesta 4U$S,  la SPUTNIK U$S...</td>\n",
       "    </tr>\n",
       "    <tr>\n",
       "      <th>5580</th>\n",
       "      <td>2021-03-17 09:53:16+00:00</td>\n",
       "      <td>Enseignante 43 ans, mère de 2 enfants décédée....</td>\n",
       "    </tr>\n",
       "    <tr>\n",
       "      <th>5782</th>\n",
       "      <td>2021-03-15 20:23:45+00:00</td>\n",
       "      <td>#ÚLTIMAHORA Brasil anuncia la compra de 100 mi...</td>\n",
       "    </tr>\n",
       "    <tr>\n",
       "      <th>6015</th>\n",
       "      <td>2021-03-13 02:14:26+00:00</td>\n",
       "      <td>¿cuanto vale cada vacuna?\\n\\ncheck this out! h...</td>\n",
       "    </tr>\n",
       "    <tr>\n",
       "      <th>6377</th>\n",
       "      <td>2021-03-10 12:01:12+00:00</td>\n",
       "      <td>99.450 dosis de vacuna COVID Pfizer acaban de ...</td>\n",
       "    </tr>\n",
       "    <tr>\n",
       "      <th>6784</th>\n",
       "      <td>2021-03-06 17:39:44+00:00</td>\n",
       "      <td>Presidente @NicolasMaduro recibe vacuna Sputni...</td>\n",
       "    </tr>\n",
       "    <tr>\n",
       "      <th>6816</th>\n",
       "      <td>2021-03-06 16:12:58+00:00</td>\n",
       "      <td>#Noticia 📰 | Presidente @NicolasMaduro recibe ...</td>\n",
       "    </tr>\n",
       "    <tr>\n",
       "      <th>6823</th>\n",
       "      <td>2021-03-06 15:43:24+00:00</td>\n",
       "      <td>#UltimoMinuto | Presidente @NicolasMaduro reci...</td>\n",
       "    </tr>\n",
       "    <tr>\n",
       "      <th>7735</th>\n",
       "      <td>2021-02-26 12:48:39+00:00</td>\n",
       "      <td>🧪 URGENTE | El laboratorio Richmond producirá ...</td>\n",
       "    </tr>\n",
       "    <tr>\n",
       "      <th>7737</th>\n",
       "      <td>2021-02-26 12:47:16+00:00</td>\n",
       "      <td>¡La vacuna Sputnik V se producirá en Argentina...</td>\n",
       "    </tr>\n",
       "  </tbody>\n",
       "</table>\n",
       "</div>"
      ],
      "text/plain": [
       "                          date  \\\n",
       "89   2021-04-29 20:09:21+00:00   \n",
       "511  2021-04-24 19:58:35+00:00   \n",
       "694  2021-04-22 10:58:15+00:00   \n",
       "695  2021-04-22 09:40:42+00:00   \n",
       "1611 2021-04-14 12:41:02+00:00   \n",
       "2733 2021-04-08 14:11:48+00:00   \n",
       "4042 2021-03-31 14:36:18+00:00   \n",
       "4058 2021-03-31 12:40:30+00:00   \n",
       "4161 2021-03-30 15:46:54+00:00   \n",
       "4936 2021-03-23 16:51:10+00:00   \n",
       "5064 2021-03-22 13:05:38+00:00   \n",
       "5580 2021-03-17 09:53:16+00:00   \n",
       "5782 2021-03-15 20:23:45+00:00   \n",
       "6015 2021-03-13 02:14:26+00:00   \n",
       "6377 2021-03-10 12:01:12+00:00   \n",
       "6784 2021-03-06 17:39:44+00:00   \n",
       "6816 2021-03-06 16:12:58+00:00   \n",
       "6823 2021-03-06 15:43:24+00:00   \n",
       "7735 2021-02-26 12:48:39+00:00   \n",
       "7737 2021-02-26 12:47:16+00:00   \n",
       "\n",
       "                                                content  \n",
       "89    VACUNA O MUERTE! #GetVaccinated #COVID19 is no...  \n",
       "511               Vacuna matata https://t.co/aXnKXNRgJn  \n",
       "694        Mi padre post-vacuna https://t.co/1YVIf0fCon  \n",
       "695    Periodista, di vacuna... https://t.co/hhRsV7Gf4R  \n",
       "1611  Informe del @msalnacion sobre   porcentaje de ...  \n",
       "2733  Solicita la vacuna Sputnik hoy y te regalamos ...  \n",
       "4042  Descarga de dosis de vacuna de Pfizer. https:/...  \n",
       "4058  👏 Arriba a @AICM_mx un avión ✈️ procedente de ...  \n",
       "4161    Lupito Ferrer se vacuna https://t.co/hpb4jisFu3  \n",
       "4936  GREAT news: @TexasDSHS has announced that ALL ...  \n",
       "5064  La vacuna de O/AZ cuesta 4U$S,  la SPUTNIK U$S...  \n",
       "5580  Enseignante 43 ans, mère de 2 enfants décédée....  \n",
       "5782  #ÚLTIMAHORA Brasil anuncia la compra de 100 mi...  \n",
       "6015  ¿cuanto vale cada vacuna?\\n\\ncheck this out! h...  \n",
       "6377  99.450 dosis de vacuna COVID Pfizer acaban de ...  \n",
       "6784  Presidente @NicolasMaduro recibe vacuna Sputni...  \n",
       "6816  #Noticia 📰 | Presidente @NicolasMaduro recibe ...  \n",
       "6823  #UltimoMinuto | Presidente @NicolasMaduro reci...  \n",
       "7735  🧪 URGENTE | El laboratorio Richmond producirá ...  \n",
       "7737  ¡La vacuna Sputnik V se producirá en Argentina...  "
      ]
     },
     "execution_count": 129,
     "metadata": {},
     "output_type": "execute_result"
    }
   ],
   "source": [
    "foreign = df.lang.value_counts().index.tolist()\n",
    "foreign = [lang for lang in foreign if lang not in ['es', 'ca']]\n",
    "df[df.lang.isin(foreign)][['date', 'content']].head(20)"
   ]
  },
  {
   "cell_type": "code",
   "execution_count": 136,
   "id": "2c66db77-ffe0-40a1-97ed-7623daa25c38",
   "metadata": {},
   "outputs": [
    {
     "data": {
      "text/plain": [
       "'#Noticia 💉 Cómo parte de la población priorizada en la etapa 2 del Plan Nacional de Vacunación, el ministro @Fruizgomez recibió hoy la vacuna contra la COVID-19. \\n\\nℹ️ https://t.co/0gZ7jhWAtN https://t.co/77VtyEPznb'"
      ]
     },
     "execution_count": 136,
     "metadata": {},
     "output_type": "execute_result"
    }
   ],
   "source": [
    "df[df.content != df.renderedContent][['content', 'renderedContent']].iloc[0].content"
   ]
  },
  {
   "cell_type": "code",
   "execution_count": 137,
   "id": "be017a58-5d60-41d6-8cd0-1a7d947c1ec8",
   "metadata": {},
   "outputs": [
    {
     "data": {
      "text/plain": [
       "'#Noticia 💉 Cómo parte de la población priorizada en la etapa 2 del Plan Nacional de Vacunación, el ministro @Fruizgomez recibió hoy la vacuna contra la COVID-19. \\n\\nℹ️ bit.ly/3u9DZSm https://t.co/77VtyEPznb'"
      ]
     },
     "execution_count": 137,
     "metadata": {},
     "output_type": "execute_result"
    }
   ],
   "source": [
    "df[df.content != df.renderedContent][['content', 'renderedContent']].iloc[0].renderedContent"
   ]
  },
  {
   "cell_type": "code",
   "execution_count": 140,
   "id": "2604e527-0c0f-4942-9a26-e8e1ea457409",
   "metadata": {},
   "outputs": [
    {
     "data": {
      "text/plain": [
       "1.0"
      ]
     },
     "execution_count": 140,
     "metadata": {},
     "output_type": "execute_result"
    }
   ],
   "source": [
    "df.url.unique().shape[0] / df.shape[0]"
   ]
  },
  {
   "cell_type": "code",
   "execution_count": 80,
   "id": "43be397e-1909-4ccb-b134-36981725b3b3",
   "metadata": {},
   "outputs": [
    {
     "data": {
      "text/plain": [
       "Index(['url', 'date', 'content', 'renderedContent', 'id', 'user', 'outlinks',\n",
       "       'tcooutlinks', 'replyCount', 'retweetCount', 'likeCount', 'quoteCount',\n",
       "       'conversationId', 'lang', 'source', 'sourceUrl', 'sourceLabel', 'media',\n",
       "       'retweetedTweet', 'quotedTweet', 'mentionedUsers', 'coordinates',\n",
       "       'place', 'username'],\n",
       "      dtype='object')"
      ]
     },
     "execution_count": 80,
     "metadata": {},
     "output_type": "execute_result"
    }
   ],
   "source": [
    "df.columns"
   ]
  }
 ],
 "metadata": {
  "kernelspec": {
   "display_name": "Python Capstone Project Kernel",
   "language": "python",
   "name": "capstone"
  },
  "language_info": {
   "codemirror_mode": {
    "name": "ipython",
    "version": 3
   },
   "file_extension": ".py",
   "mimetype": "text/x-python",
   "name": "python",
   "nbconvert_exporter": "python",
   "pygments_lexer": "ipython3",
   "version": "3.8.8"
  }
 },
 "nbformat": 4,
 "nbformat_minor": 5
}
