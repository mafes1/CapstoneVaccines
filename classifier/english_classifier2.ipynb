{
 "cells": [
  {
   "cell_type": "markdown",
   "id": "f98a58f3",
   "metadata": {},
   "source": [
    "### Clasificador en inglés\n",
    "\n",
    "Categorías del dataset _all_sample_:\n",
    "\n",
    "- 0: negativo\n",
    "- 1: positivo\n",
    "- 2: neutral\n",
    "- 3: irrelevante\n",
    "\n",
    "Categorías utilizadas para la clasificación:\n",
    "\n",
    "- 0: tuits negativos\n",
    "- 1: tuits positivos"
   ]
  },
  {
   "cell_type": "markdown",
   "id": "366cf269",
   "metadata": {},
   "source": [
    "#### Importamos librerías"
   ]
  },
  {
   "cell_type": "code",
   "execution_count": 1,
   "id": "c0f2c73d",
   "metadata": {},
   "outputs": [],
   "source": [
    "import matplotlib.pyplot as plt\n",
    "import seaborn as sns\n",
    "from nltk.sentiment.vader import SentimentIntensityAnalyzer\n",
    "import pandas as pd, os, numpy as np\n",
    "from collections import Counter\n",
    "from time import time\n",
    "\n",
    "from sklearn.model_selection import train_test_split\n",
    "from sklearn.feature_extraction.text import CountVectorizer\n",
    "from sklearn.feature_extraction.text import TfidfTransformer\n",
    "from sklearn.feature_extraction.text import TfidfVectorizer\n",
    "\n",
    "from sklearn.preprocessing import MaxAbsScaler\n",
    "from scipy.sparse import hstack, csr_matrix\n",
    "\n",
    "from imblearn.over_sampling import SMOTE\n",
    "from sklearn.metrics import classification_report, confusion_matrix, accuracy_score, precision_score, average_precision_score, make_scorer\n",
    "from sklearn.svm import SVC\n",
    "from sklearn.model_selection import cross_val_score\n",
    "from sklearn.tree import DecisionTreeClassifier\n",
    "from sklearn.linear_model import LogisticRegression\n",
    "from sklearn.ensemble import RandomForestClassifier\n",
    "from sklearn.svm import LinearSVC\n",
    "from sklearn.model_selection import KFold\n",
    "from sklearn.model_selection import GridSearchCV"
   ]
  },
  {
   "cell_type": "markdown",
   "id": "d327be77",
   "metadata": {},
   "source": [
    "#### Importamos el dataset"
   ]
  },
  {
   "cell_type": "code",
   "execution_count": 2,
   "id": "35011500",
   "metadata": {},
   "outputs": [],
   "source": [
    "df_sample = pd.read_csv('data/all_sample.csv')\n",
    "df_sample.drop(columns=['Unnamed: 0', 'Unnamed: 0.1', 'Unnamed: 0.1.1'], inplace=True)"
   ]
  },
  {
   "cell_type": "code",
   "execution_count": 3,
   "id": "a45f9e1d",
   "metadata": {},
   "outputs": [],
   "source": [
    "sent = SentimentIntensityAnalyzer()\n",
    "\n",
    "df_sample['negative'] = df_sample['preprocessed_text'].apply(lambda x: sent.polarity_scores(x)['neg'])\n",
    "# df_sample['neutral'] = df_sample['preprocessed_text'].apply(lambda x: sent.polarity_scores(x)['neu'])\n",
    "df_sample['positive'] = df_sample['preprocessed_text'].apply(lambda x: sent.polarity_scores(x)['pos'])\n",
    "# df_sample['compound'] = df_sample['preprocessed_text'].apply(lambda x: sent.polarity_scores(x)['compound'])\n",
    "\n",
    "# df_sample['length'] = [len(x) if type(x) == str else 0 for x in df_sample.preprocessed_text]\n",
    "\n",
    "df_sample['relevance'] = [0 if x == 3 or x == 2 else 1 for x in df_sample.labels] # Irr./Neu.: 0; Pos./Neg: 1\n",
    "df_sample = df_sample[df_sample['relevance'] == 1] # Negatius: 0; Positius: 1\n",
    "df_sample['polarity_label'] = [0 if x == 0 else 1 for x in df_sample.labels]"
   ]
  },
  {
   "cell_type": "markdown",
   "id": "2463c578",
   "metadata": {},
   "source": [
    "#### Dividimos en train y test"
   ]
  },
  {
   "cell_type": "code",
   "execution_count": 4,
   "id": "8f4b2c36",
   "metadata": {},
   "outputs": [],
   "source": [
    "data_train, data_test, y_train, y_test = \\\n",
    "    train_test_split(df_sample, df_sample['polarity_label'], test_size=0.5, random_state=5)"
   ]
  },
  {
   "cell_type": "code",
   "execution_count": 5,
   "id": "fdf13a45",
   "metadata": {},
   "outputs": [],
   "source": [
    "count_vectorizer = CountVectorizer(ngram_range=(1, 2), max_features=1000, min_df=6, max_df=0.6) # \n",
    "term_freq_matrix = count_vectorizer.fit_transform(data_train['preprocessed_text'].values.astype('U'))\n",
    "\n",
    "tfidf = TfidfTransformer(norm=\"l2\")\n",
    "tfidf.fit(term_freq_matrix)\n",
    "tf_idf_matrix = tfidf.transform(term_freq_matrix)\n",
    "\n",
    "tfidf_vectorizer = TfidfVectorizer(min_df = 1)\n",
    "X_train = tfidf_vectorizer.fit_transform(data_train['preprocessed_text'].values.astype('U'))\n",
    "X_test  = tfidf_vectorizer.transform(data_test['preprocessed_text'].values.astype('U'))"
   ]
  },
  {
   "cell_type": "code",
   "execution_count": 6,
   "id": "0cf5ad96",
   "metadata": {},
   "outputs": [],
   "source": [
    "extra_features_train = data_train[['polarity','subjectivity', 'punctuation', 'negative', 'positive']].to_numpy()\n",
    "extra_features_val = data_test[['polarity','subjectivity', 'punctuation', 'negative', 'positive']].to_numpy()\n",
    "\n",
    "scaler = MaxAbsScaler().fit(extra_features_train)\n",
    "extra_features_train = csr_matrix(scaler.transform(extra_features_train))\n",
    "extra_features_val = csr_matrix(scaler.transform(extra_features_val))\n",
    "    \n",
    "X_train = hstack((X_train, extra_features_train))\n",
    "X_test = hstack((X_test, extra_features_val))"
   ]
  },
  {
   "cell_type": "markdown",
   "id": "ed309c2f",
   "metadata": {},
   "source": [
    "#### SMOTE para equilibrar el dataset"
   ]
  },
  {
   "cell_type": "code",
   "execution_count": 7,
   "id": "77de4c52",
   "metadata": {},
   "outputs": [
    {
     "name": "stdout",
     "output_type": "stream",
     "text": [
      "Before oversampling:  Counter({1: 592, 0: 68})\n",
      "After oversampling:  Counter({0: 592, 1: 592})\n"
     ]
    }
   ],
   "source": [
    "counter = Counter(y_train)\n",
    "print('Before oversampling: ', counter)\n",
    "\n",
    "# transform the dataset\n",
    "oversample = SMOTE(sampling_strategy='minority', random_state=42, k_neighbors=1)\n",
    "X_train, y_train = oversample.fit_resample(X_train, y_train)\n",
    "\n",
    "counter = Counter(y_train)\n",
    "print('After oversampling: ', counter)"
   ]
  },
  {
   "cell_type": "markdown",
   "id": "459cbf38",
   "metadata": {},
   "source": [
    "### Probamos distintos clasificadores\n",
    "\n",
    "Optamos por SVM porque es el que da mejores resultados"
   ]
  },
  {
   "cell_type": "code",
   "execution_count": 8,
   "id": "e9e46267",
   "metadata": {},
   "outputs": [
    {
     "data": {
      "image/png": "[encoded data removed]",
      "text/plain": [
       "<Figure size 842.4x595.44 with 1 Axes>"
      ]
     },
     "metadata": {},
     "output_type": "display_data"
    }
   ],
   "source": [
    "models = [\n",
    "    RandomForestClassifier(n_estimators=200, max_depth=3, random_state=0),\n",
    "    LinearSVC(C=1, random_state=42),\n",
    "    SVC(C=1, kernel='rbf', gamma='scale'),\n",
    "    DecisionTreeClassifier(),\n",
    "    LogisticRegression(random_state=0),\n",
    "]\n",
    "\n",
    "CV = 5\n",
    "df_cv = pd.DataFrame(index = range(CV * len(models)))\n",
    "result = []\n",
    "\n",
    "for model in models:\n",
    "    \n",
    "    model_name = model.__class__.__name__\n",
    "    \n",
    "    scores = cross_val_score(model, X_train, y_train, scoring='average_precision', cv=CV)\n",
    "    \n",
    "    for fold_idx, score in enumerate(scores):\n",
    "        result.append((model_name, fold_idx, score))\n",
    "    df_cv = pd.DataFrame(result, columns=['model_name', 'fold_idx', 'avg_precision'])\n",
    "\n",
    "\n",
    "sns.set(rc={'figure.figsize':(11.7,8.27)})\n",
    "sns.boxplot(x='model_name', y='avg_precision', data=df_cv)\n",
    "sns.stripplot(x='model_name', y='avg_precision', data=df_cv, \n",
    "              size=8, jitter=True, edgecolor=\"gray\", linewidth=2)\n",
    "plt.show()"
   ]
  },
  {
   "cell_type": "code",
   "execution_count": 9,
   "id": "34bd2949",
   "metadata": {},
   "outputs": [
    {
     "data": {
      "text/plain": [
       "model_name\n",
       "DecisionTreeClassifier    0.881442\n",
       "LinearSVC                 0.999510\n",
       "LogisticRegression        0.992496\n",
       "RandomForestClassifier    0.955858\n",
       "SVC                       0.999018\n",
       "Name: avg_precision, dtype: float64"
      ]
     },
     "execution_count": 9,
     "metadata": {},
     "output_type": "execute_result"
    }
   ],
   "source": [
    "df_cv.groupby('model_name').avg_precision.mean()"
   ]
  },
  {
   "cell_type": "markdown",
   "id": "c7949d0a",
   "metadata": {},
   "source": [
    "### Parámetros\n",
    "\n",
    "GridSearchCV para encontrar los mejores parámetros"
   ]
  },
  {
   "cell_type": "code",
   "execution_count": 10,
   "id": "60828528",
   "metadata": {},
   "outputs": [],
   "source": [
    "def grid_search(clf, X_train, y_train, tuned_parameters, scorers, refit_score='precision'):\n",
    "    \n",
    "    skf = KFold(n_splits=10, shuffle=True, random_state=1)\n",
    "\n",
    "    grid_search = GridSearchCV(clf, tuned_parameters, scoring=scorers, refit=refit_score,\n",
    "                               cv=skf, n_jobs=1, return_train_score=True)\n",
    "    grid_search.fit(X_train, y_train)\n",
    "    print('------Analysis orientated to {}------:'.format(refit_score))\n",
    "    print('Best parameters ({}): {}'.format(refit_score, grid_search.best_params_))\n",
    "    print('Best score ({}): {}'.format(refit_score, grid_search.best_score_))\n",
    "    return grid_search"
   ]
  },
  {
   "cell_type": "code",
   "execution_count": 11,
   "id": "1d1294e0",
   "metadata": {},
   "outputs": [
    {
     "name": "stdout",
     "output_type": "stream",
     "text": [
      "------Analysis orientated to precision------:\n",
      "Best parameters (precision): {'C': 10, 'gamma': 0.1, 'kernel': 'rbf'}\n",
      "Best score (precision): 1.0\n",
      "----------Clasification----------\n",
      "Train score ({'precision': make_scorer(precision_score, zero_division=0)}): 1.0\n",
      "Test score ({'precision': make_scorer(precision_score, zero_division=0)}): 0.9314641744548287\n",
      "Time: 6.1 mins\n"
     ]
    }
   ],
   "source": [
    "t = time()\n",
    "\n",
    "precision_scorer = make_scorer(precision_score, zero_division=0)\n",
    "\n",
    "custom_scoring = {\"precision\": precision_scorer}\n",
    "\n",
    "# score_orien = 'precision'\n",
    "\n",
    "tuned_parameters = [{'kernel': ['rbf'], 'gamma': [0.00001, 0.0001, 0.001, 0.01, 0.05, 0.1, 1, 10, 100],\n",
    "                     'C': [0.1, 1, 5, 10, 15, 50, 100, 250, 500, 1000]},\n",
    "                    {'kernel': ['linear'], 'C': [0.1, 1, 5, 10, 15, 50, 100, 250, 500]}]\n",
    "\n",
    "grid_svm = grid_search(SVC(class_weight='balanced'), X_train, y_train, tuned_parameters, custom_scoring)\n",
    "\n",
    "print('----------Clasification----------')\n",
    "print('Train score ({}): {}'.format(custom_scoring, grid_svm.score(X_train, y_train)))\n",
    "print('Test score ({}): {}'.format(custom_scoring, grid_svm.score(X_test, y_test)))\n",
    "\n",
    "results = pd.DataFrame(grid_svm.cv_results_)\n",
    "\n",
    "print('Time: {} mins'.format(round((time() - t) / 60, 2)))"
   ]
  },
  {
   "cell_type": "code",
   "execution_count": 17,
   "id": "9394cc2e",
   "metadata": {},
   "outputs": [
    {
     "data": {
      "text/html": [
       "<div>\n",
       "<style scoped>\n",
       "    .dataframe tbody tr th:only-of-type {\n",
       "        vertical-align: middle;\n",
       "    }\n",
       "\n",
       "    .dataframe tbody tr th {\n",
       "        vertical-align: top;\n",
       "    }\n",
       "\n",
       "    .dataframe thead th {\n",
       "        text-align: right;\n",
       "    }\n",
       "</style>\n",
       "<table border=\"1\" class=\"dataframe\">\n",
       "  <thead>\n",
       "    <tr style=\"text-align: right;\">\n",
       "      <th></th>\n",
       "      <th>params</th>\n",
       "      <th>mean_test_precision</th>\n",
       "      <th>std_test_precision</th>\n",
       "      <th>mean_train_precision</th>\n",
       "      <th>std_train_precision</th>\n",
       "    </tr>\n",
       "  </thead>\n",
       "  <tbody>\n",
       "    <tr>\n",
       "      <th>49</th>\n",
       "      <td>{'C': 50, 'gamma': 0.05, 'kernel': 'rbf'}</td>\n",
       "      <td>1.000000</td>\n",
       "      <td>0.000000</td>\n",
       "      <td>1.0</td>\n",
       "      <td>0.0</td>\n",
       "    </tr>\n",
       "    <tr>\n",
       "      <th>84</th>\n",
       "      <td>{'C': 1000, 'gamma': 0.01, 'kernel': 'rbf'}</td>\n",
       "      <td>1.000000</td>\n",
       "      <td>0.000000</td>\n",
       "      <td>1.0</td>\n",
       "      <td>0.0</td>\n",
       "    </tr>\n",
       "    <tr>\n",
       "      <th>41</th>\n",
       "      <td>{'C': 15, 'gamma': 0.1, 'kernel': 'rbf'}</td>\n",
       "      <td>1.000000</td>\n",
       "      <td>0.000000</td>\n",
       "      <td>1.0</td>\n",
       "      <td>0.0</td>\n",
       "    </tr>\n",
       "    <tr>\n",
       "      <th>50</th>\n",
       "      <td>{'C': 50, 'gamma': 0.1, 'kernel': 'rbf'}</td>\n",
       "      <td>1.000000</td>\n",
       "      <td>0.000000</td>\n",
       "      <td>1.0</td>\n",
       "      <td>0.0</td>\n",
       "    </tr>\n",
       "    <tr>\n",
       "      <th>57</th>\n",
       "      <td>{'C': 100, 'gamma': 0.01, 'kernel': 'rbf'}</td>\n",
       "      <td>1.000000</td>\n",
       "      <td>0.000000</td>\n",
       "      <td>1.0</td>\n",
       "      <td>0.0</td>\n",
       "    </tr>\n",
       "    <tr>\n",
       "      <th>58</th>\n",
       "      <td>{'C': 100, 'gamma': 0.05, 'kernel': 'rbf'}</td>\n",
       "      <td>1.000000</td>\n",
       "      <td>0.000000</td>\n",
       "      <td>1.0</td>\n",
       "      <td>0.0</td>\n",
       "    </tr>\n",
       "    <tr>\n",
       "      <th>66</th>\n",
       "      <td>{'C': 250, 'gamma': 0.01, 'kernel': 'rbf'}</td>\n",
       "      <td>1.000000</td>\n",
       "      <td>0.000000</td>\n",
       "      <td>1.0</td>\n",
       "      <td>0.0</td>\n",
       "    </tr>\n",
       "    <tr>\n",
       "      <th>75</th>\n",
       "      <td>{'C': 500, 'gamma': 0.01, 'kernel': 'rbf'}</td>\n",
       "      <td>1.000000</td>\n",
       "      <td>0.000000</td>\n",
       "      <td>1.0</td>\n",
       "      <td>0.0</td>\n",
       "    </tr>\n",
       "    <tr>\n",
       "      <th>32</th>\n",
       "      <td>{'C': 10, 'gamma': 0.1, 'kernel': 'rbf'}</td>\n",
       "      <td>1.000000</td>\n",
       "      <td>0.000000</td>\n",
       "      <td>1.0</td>\n",
       "      <td>0.0</td>\n",
       "    </tr>\n",
       "    <tr>\n",
       "      <th>83</th>\n",
       "      <td>{'C': 1000, 'gamma': 0.001, 'kernel': 'rbf'}</td>\n",
       "      <td>1.000000</td>\n",
       "      <td>0.000000</td>\n",
       "      <td>1.0</td>\n",
       "      <td>0.0</td>\n",
       "    </tr>\n",
       "    <tr>\n",
       "      <th>40</th>\n",
       "      <td>{'C': 15, 'gamma': 0.05, 'kernel': 'rbf'}</td>\n",
       "      <td>1.000000</td>\n",
       "      <td>0.000000</td>\n",
       "      <td>1.0</td>\n",
       "      <td>0.0</td>\n",
       "    </tr>\n",
       "    <tr>\n",
       "      <th>92</th>\n",
       "      <td>{'C': 5, 'kernel': 'linear'}</td>\n",
       "      <td>1.000000</td>\n",
       "      <td>0.000000</td>\n",
       "      <td>1.0</td>\n",
       "      <td>0.0</td>\n",
       "    </tr>\n",
       "    <tr>\n",
       "      <th>93</th>\n",
       "      <td>{'C': 10, 'kernel': 'linear'}</td>\n",
       "      <td>1.000000</td>\n",
       "      <td>0.000000</td>\n",
       "      <td>1.0</td>\n",
       "      <td>0.0</td>\n",
       "    </tr>\n",
       "    <tr>\n",
       "      <th>94</th>\n",
       "      <td>{'C': 15, 'kernel': 'linear'}</td>\n",
       "      <td>1.000000</td>\n",
       "      <td>0.000000</td>\n",
       "      <td>1.0</td>\n",
       "      <td>0.0</td>\n",
       "    </tr>\n",
       "    <tr>\n",
       "      <th>85</th>\n",
       "      <td>{'C': 1000, 'gamma': 0.05, 'kernel': 'rbf'}</td>\n",
       "      <td>0.998507</td>\n",
       "      <td>0.004478</td>\n",
       "      <td>1.0</td>\n",
       "      <td>0.0</td>\n",
       "    </tr>\n",
       "    <tr>\n",
       "      <th>86</th>\n",
       "      <td>{'C': 1000, 'gamma': 0.1, 'kernel': 'rbf'}</td>\n",
       "      <td>0.998507</td>\n",
       "      <td>0.004478</td>\n",
       "      <td>1.0</td>\n",
       "      <td>0.0</td>\n",
       "    </tr>\n",
       "    <tr>\n",
       "      <th>76</th>\n",
       "      <td>{'C': 500, 'gamma': 0.05, 'kernel': 'rbf'}</td>\n",
       "      <td>0.998507</td>\n",
       "      <td>0.004478</td>\n",
       "      <td>1.0</td>\n",
       "      <td>0.0</td>\n",
       "    </tr>\n",
       "    <tr>\n",
       "      <th>68</th>\n",
       "      <td>{'C': 250, 'gamma': 0.1, 'kernel': 'rbf'}</td>\n",
       "      <td>0.998507</td>\n",
       "      <td>0.004478</td>\n",
       "      <td>1.0</td>\n",
       "      <td>0.0</td>\n",
       "    </tr>\n",
       "    <tr>\n",
       "      <th>67</th>\n",
       "      <td>{'C': 250, 'gamma': 0.05, 'kernel': 'rbf'}</td>\n",
       "      <td>0.998507</td>\n",
       "      <td>0.004478</td>\n",
       "      <td>1.0</td>\n",
       "      <td>0.0</td>\n",
       "    </tr>\n",
       "    <tr>\n",
       "      <th>59</th>\n",
       "      <td>{'C': 100, 'gamma': 0.1, 'kernel': 'rbf'}</td>\n",
       "      <td>0.998507</td>\n",
       "      <td>0.004478</td>\n",
       "      <td>1.0</td>\n",
       "      <td>0.0</td>\n",
       "    </tr>\n",
       "  </tbody>\n",
       "</table>\n",
       "</div>"
      ],
      "text/plain": [
       "                                          params  mean_test_precision  \\\n",
       "49     {'C': 50, 'gamma': 0.05, 'kernel': 'rbf'}             1.000000   \n",
       "84   {'C': 1000, 'gamma': 0.01, 'kernel': 'rbf'}             1.000000   \n",
       "41      {'C': 15, 'gamma': 0.1, 'kernel': 'rbf'}             1.000000   \n",
       "50      {'C': 50, 'gamma': 0.1, 'kernel': 'rbf'}             1.000000   \n",
       "57    {'C': 100, 'gamma': 0.01, 'kernel': 'rbf'}             1.000000   \n",
       "58    {'C': 100, 'gamma': 0.05, 'kernel': 'rbf'}             1.000000   \n",
       "66    {'C': 250, 'gamma': 0.01, 'kernel': 'rbf'}             1.000000   \n",
       "75    {'C': 500, 'gamma': 0.01, 'kernel': 'rbf'}             1.000000   \n",
       "32      {'C': 10, 'gamma': 0.1, 'kernel': 'rbf'}             1.000000   \n",
       "83  {'C': 1000, 'gamma': 0.001, 'kernel': 'rbf'}             1.000000   \n",
       "40     {'C': 15, 'gamma': 0.05, 'kernel': 'rbf'}             1.000000   \n",
       "92                  {'C': 5, 'kernel': 'linear'}             1.000000   \n",
       "93                 {'C': 10, 'kernel': 'linear'}             1.000000   \n",
       "94                 {'C': 15, 'kernel': 'linear'}             1.000000   \n",
       "85   {'C': 1000, 'gamma': 0.05, 'kernel': 'rbf'}             0.998507   \n",
       "86    {'C': 1000, 'gamma': 0.1, 'kernel': 'rbf'}             0.998507   \n",
       "76    {'C': 500, 'gamma': 0.05, 'kernel': 'rbf'}             0.998507   \n",
       "68     {'C': 250, 'gamma': 0.1, 'kernel': 'rbf'}             0.998507   \n",
       "67    {'C': 250, 'gamma': 0.05, 'kernel': 'rbf'}             0.998507   \n",
       "59     {'C': 100, 'gamma': 0.1, 'kernel': 'rbf'}             0.998507   \n",
       "\n",
       "    std_test_precision  mean_train_precision  std_train_precision  \n",
       "49            0.000000                   1.0                  0.0  \n",
       "84            0.000000                   1.0                  0.0  \n",
       "41            0.000000                   1.0                  0.0  \n",
       "50            0.000000                   1.0                  0.0  \n",
       "57            0.000000                   1.0                  0.0  \n",
       "58            0.000000                   1.0                  0.0  \n",
       "66            0.000000                   1.0                  0.0  \n",
       "75            0.000000                   1.0                  0.0  \n",
       "32            0.000000                   1.0                  0.0  \n",
       "83            0.000000                   1.0                  0.0  \n",
       "40            0.000000                   1.0                  0.0  \n",
       "92            0.000000                   1.0                  0.0  \n",
       "93            0.000000                   1.0                  0.0  \n",
       "94            0.000000                   1.0                  0.0  \n",
       "85            0.004478                   1.0                  0.0  \n",
       "86            0.004478                   1.0                  0.0  \n",
       "76            0.004478                   1.0                  0.0  \n",
       "68            0.004478                   1.0                  0.0  \n",
       "67            0.004478                   1.0                  0.0  \n",
       "59            0.004478                   1.0                  0.0  "
      ]
     },
     "execution_count": 17,
     "metadata": {},
     "output_type": "execute_result"
    }
   ],
   "source": [
    "results.filter(items=['params', 'mean_test_precision', 'std_test_precision',\n",
    "                        'mean_train_precision', 'std_train_precision']).sort_values('mean_test_precision', ascending=False).head(20)"
   ]
  },
  {
   "cell_type": "markdown",
   "id": "af1c200c",
   "metadata": {},
   "source": [
    "### Test\n",
    "\n",
    "Probamos el clasificador con los datos del test"
   ]
  },
  {
   "cell_type": "code",
   "execution_count": 22,
   "id": "45631e4b",
   "metadata": {},
   "outputs": [],
   "source": [
    "def plot_confusion_matrix(y, y_pred, title, labels):\n",
    "    cf_matrix = confusion_matrix(y, y_pred)\n",
    "    plt.figure()\n",
    "    sns.heatmap(cf_matrix, annot=True, xticklabels=labels, yticklabels=labels, fmt='g', linewidths=.5,\n",
    "                annot_kws={\"size\": 10}, cmap=\"YlGnBu\")\n",
    "    plt.xlabel('Predicted')\n",
    "    plt.ylabel('True')\n",
    "    plt.title(title)"
   ]
  },
  {
   "cell_type": "code",
   "execution_count": 46,
   "id": "c71d3c8d",
   "metadata": {},
   "outputs": [
    {
     "name": "stdout",
     "output_type": "stream",
     "text": [
      "ACCURACY:  0.9016641452344932\n",
      "PRECISION:  0.5079147043432758\n"
     ]
    }
   ],
   "source": [
    "clf = SVC(kernel='rbf', C=50, gamma=0.1).fit(X_train, y_train)\n",
    "\n",
    "y_pred = clf.predict(X_test)\n",
    "\n",
    "accuracy = accuracy_score(y_test, y_pred)\n",
    "precision = precision_score(y_test, y_pred, average='macro')\n",
    "print('ACCURACY: ', accuracy)\n",
    "print('PRECISION: ', precision)"
   ]
  },
  {
   "cell_type": "code",
   "execution_count": 24,
   "id": "63879be8",
   "metadata": {},
   "outputs": [
    {
     "data": {
      "image/png": "[encoded data removed]",
      "text/plain": [
       "<Figure size 842.4x595.44 with 2 Axes>"
      ]
     },
     "metadata": {},
     "output_type": "display_data"
    }
   ],
   "source": [
    "plot_confusion_matrix(y_test, y_pred, 'Test data', ['Negative', 'Positive'])"
   ]
  },
  {
   "cell_type": "code",
   "execution_count": 143,
   "id": "8ccfdfc8",
   "metadata": {},
   "outputs": [
    {
     "name": "stdout",
     "output_type": "stream",
     "text": [
      "              precision    recall  f1-score   support\n",
      "\n",
      "    Negative       0.05      0.02      0.03        45\n",
      "    Positive       0.93      0.97      0.95       616\n",
      "\n",
      "    accuracy                           0.91       661\n",
      "   macro avg       0.49      0.50      0.49       661\n",
      "weighted avg       0.87      0.91      0.89       661\n",
      "\n"
     ]
    }
   ],
   "source": [
    "print(classification_report(y_test, y_pred, target_names=['Negative', 'Positive']))"
   ]
  },
  {
   "cell_type": "code",
   "execution_count": null,
   "id": "34b521d7",
   "metadata": {},
   "outputs": [],
   "source": []
  }
 ],
 "metadata": {
  "kernelspec": {
   "display_name": "Python 3",
   "language": "python",
   "name": "python3"
  },
  "language_info": {
   "codemirror_mode": {
    "name": "ipython",
    "version": 3
   },
   "file_extension": ".py",
   "mimetype": "text/x-python",
   "name": "python",
   "nbconvert_exporter": "python",
   "pygments_lexer": "ipython3",
   "version": "3.8.10"
  }
 },
 "nbformat": 4,
 "nbformat_minor": 5
}
